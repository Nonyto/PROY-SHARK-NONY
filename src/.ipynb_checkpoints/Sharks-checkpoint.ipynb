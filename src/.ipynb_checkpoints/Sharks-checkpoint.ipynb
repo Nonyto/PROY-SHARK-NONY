{
 "cells": [
  {
   "cell_type": "markdown",
   "id": "68e5526a",
   "metadata": {},
   "source": [
    "# Limpieza de base de datos de Sharks (ataques de tiburón a nivel mundial)"
   ]
  },
  {
   "cell_type": "markdown",
   "id": "a6437718",
   "metadata": {},
   "source": [
    "Requisitos:\n",
    "\n",
    "1) Borrar columnas sí y sólo sí len(NaN)>80%\n",
    "\n",
    "2) Mínimo de filas: 6000\n",
    "\n",
    "3) Incluir: eliminar duplicados, tener mismo tipo de dato, eliminar valores nulos...\n"
   ]
  },
  {
   "cell_type": "markdown",
   "id": "b6295ca6",
   "metadata": {},
   "source": [
    "Importamos las librerías que podemos llegar a usar"
   ]
  },
  {
   "cell_type": "code",
   "execution_count": 1,
   "id": "e3d608ed",
   "metadata": {},
   "outputs": [
    {
     "name": "stdout",
     "output_type": "stream",
     "text": [
      "Requirement already satisfied: seaborn in c:\\users\\nonito\\anaconda3\\envs\\clase\\lib\\site-packages (0.12.1)\n",
      "Requirement already satisfied: numpy>=1.17 in c:\\users\\nonito\\anaconda3\\envs\\clase\\lib\\site-packages (from seaborn) (1.23.4)\n",
      "Requirement already satisfied: pandas>=0.25 in c:\\users\\nonito\\anaconda3\\envs\\clase\\lib\\site-packages (from seaborn) (1.5.0)\n",
      "Requirement already satisfied: matplotlib!=3.6.1,>=3.1 in c:\\users\\nonito\\anaconda3\\envs\\clase\\lib\\site-packages (from seaborn) (3.6.0)\n",
      "Requirement already satisfied: packaging>=20.0 in c:\\users\\nonito\\anaconda3\\envs\\clase\\lib\\site-packages (from matplotlib!=3.6.1,>=3.1->seaborn) (21.3)\n",
      "Requirement already satisfied: cycler>=0.10 in c:\\users\\nonito\\anaconda3\\envs\\clase\\lib\\site-packages (from matplotlib!=3.6.1,>=3.1->seaborn) (0.11.0)\n",
      "Requirement already satisfied: pyparsing>=2.2.1 in c:\\users\\nonito\\anaconda3\\envs\\clase\\lib\\site-packages (from matplotlib!=3.6.1,>=3.1->seaborn) (3.0.9)\n",
      "Requirement already satisfied: fonttools>=4.22.0 in c:\\users\\nonito\\anaconda3\\envs\\clase\\lib\\site-packages (from matplotlib!=3.6.1,>=3.1->seaborn) (4.38.0)\n",
      "Requirement already satisfied: contourpy>=1.0.1 in c:\\users\\nonito\\anaconda3\\envs\\clase\\lib\\site-packages (from matplotlib!=3.6.1,>=3.1->seaborn) (1.0.5)\n",
      "Requirement already satisfied: kiwisolver>=1.0.1 in c:\\users\\nonito\\anaconda3\\envs\\clase\\lib\\site-packages (from matplotlib!=3.6.1,>=3.1->seaborn) (1.4.4)\n",
      "Requirement already satisfied: pillow>=6.2.0 in c:\\users\\nonito\\anaconda3\\envs\\clase\\lib\\site-packages (from matplotlib!=3.6.1,>=3.1->seaborn) (9.2.0)\n",
      "Requirement already satisfied: python-dateutil>=2.7 in c:\\users\\nonito\\anaconda3\\envs\\clase\\lib\\site-packages (from matplotlib!=3.6.1,>=3.1->seaborn) (2.8.2)\n",
      "Requirement already satisfied: pytz>=2020.1 in c:\\users\\nonito\\anaconda3\\envs\\clase\\lib\\site-packages (from pandas>=0.25->seaborn) (2022.4)\n",
      "Requirement already satisfied: six>=1.5 in c:\\users\\nonito\\anaconda3\\envs\\clase\\lib\\site-packages (from python-dateutil>=2.7->matplotlib!=3.6.1,>=3.1->seaborn) (1.16.0)\n",
      "Note: you may need to restart the kernel to use updated packages.\n",
      "Requirement already satisfied: requests in c:\\users\\nonito\\anaconda3\\envs\\clase\\lib\\site-packages (2.28.1)\n",
      "Requirement already satisfied: urllib3<1.27,>=1.21.1 in c:\\users\\nonito\\anaconda3\\envs\\clase\\lib\\site-packages (from requests) (1.26.12)\n",
      "Requirement already satisfied: idna<4,>=2.5 in c:\\users\\nonito\\anaconda3\\envs\\clase\\lib\\site-packages (from requests) (3.4)\n",
      "Requirement already satisfied: certifi>=2017.4.17 in c:\\users\\nonito\\anaconda3\\envs\\clase\\lib\\site-packages (from requests) (2022.9.24)\n",
      "Requirement already satisfied: charset-normalizer<3,>=2 in c:\\users\\nonito\\anaconda3\\envs\\clase\\lib\\site-packages (from requests) (2.1.1)\n",
      "Note: you may need to restart the kernel to use updated packages.\n",
      "Requirement already satisfied: openpyxl in c:\\users\\nonito\\anaconda3\\envs\\clase\\lib\\site-packages (3.0.10)\n",
      "Requirement already satisfied: et-xmlfile in c:\\users\\nonito\\anaconda3\\envs\\clase\\lib\\site-packages (from openpyxl) (1.1.0)\n",
      "Note: you may need to restart the kernel to use updated packages.\n",
      "Requirement already satisfied: xlrd in c:\\users\\nonito\\anaconda3\\envs\\clase\\lib\\site-packages (2.0.1)\n",
      "Note: you may need to restart the kernel to use updated packages.\n",
      "Requirement already satisfied: regex in c:\\users\\nonito\\anaconda3\\envs\\clase\\lib\\site-packages (2022.9.13)\n",
      "Note: you may need to restart the kernel to use updated packages.\n"
     ]
    }
   ],
   "source": [
    "%pip install seaborn\n",
    "\n",
    "%matplotlib inline\n",
    "\n",
    "%pip install requests \n",
    "\n",
    "%pip install openpyxl\n",
    "\n",
    "%pip install xlrd\n",
    "\n",
    "%pip install regex"
   ]
  },
  {
   "cell_type": "code",
   "execution_count": 2,
   "id": "8bf4f757",
   "metadata": {},
   "outputs": [],
   "source": [
    "import pandas as pd\n",
    "pd.set_option('display.max_columns', None)\n",
    "\n",
    "import numpy as np\n",
    "\n",
    "import warnings\n",
    "warnings.filterwarnings('ignore')\n",
    "\n",
    "import regex as re\n",
    "\n",
    "import pylab as plt\n",
    "import seaborn as sns"
   ]
  },
  {
   "cell_type": "markdown",
   "id": "529f68fd",
   "metadata": {},
   "source": [
    "Cargamos la base de datos como csv para trabajarlo"
   ]
  },
  {
   "cell_type": "code",
   "execution_count": 3,
   "id": "540fed73",
   "metadata": {},
   "outputs": [],
   "source": [
    "df = pd.read_csv('../Data/attacks.csv', encoding='latin1')"
   ]
  },
  {
   "cell_type": "code",
   "execution_count": 4,
   "id": "c4193db6",
   "metadata": {},
   "outputs": [
    {
     "data": {
      "text/html": [
       "<div>\n",
       "<style scoped>\n",
       "    .dataframe tbody tr th:only-of-type {\n",
       "        vertical-align: middle;\n",
       "    }\n",
       "\n",
       "    .dataframe tbody tr th {\n",
       "        vertical-align: top;\n",
       "    }\n",
       "\n",
       "    .dataframe thead th {\n",
       "        text-align: right;\n",
       "    }\n",
       "</style>\n",
       "<table border=\"1\" class=\"dataframe\">\n",
       "  <thead>\n",
       "    <tr style=\"text-align: right;\">\n",
       "      <th></th>\n",
       "      <th>Case Number</th>\n",
       "      <th>Date</th>\n",
       "      <th>Year</th>\n",
       "      <th>Type</th>\n",
       "      <th>Country</th>\n",
       "      <th>Area</th>\n",
       "      <th>Location</th>\n",
       "      <th>Activity</th>\n",
       "      <th>Name</th>\n",
       "      <th>Sex</th>\n",
       "      <th>Age</th>\n",
       "      <th>Injury</th>\n",
       "      <th>Fatal (Y/N)</th>\n",
       "      <th>Time</th>\n",
       "      <th>Species</th>\n",
       "      <th>Investigator or Source</th>\n",
       "      <th>pdf</th>\n",
       "      <th>href formula</th>\n",
       "      <th>href</th>\n",
       "      <th>Case Number.1</th>\n",
       "      <th>Case Number.2</th>\n",
       "      <th>original order</th>\n",
       "      <th>Unnamed: 22</th>\n",
       "      <th>Unnamed: 23</th>\n",
       "    </tr>\n",
       "  </thead>\n",
       "  <tbody>\n",
       "    <tr>\n",
       "      <th>0</th>\n",
       "      <td>2018.06.25</td>\n",
       "      <td>25-Jun-2018</td>\n",
       "      <td>2018.0</td>\n",
       "      <td>Boating</td>\n",
       "      <td>USA</td>\n",
       "      <td>California</td>\n",
       "      <td>Oceanside, San Diego County</td>\n",
       "      <td>Paddling</td>\n",
       "      <td>Julie Wolfe</td>\n",
       "      <td>F</td>\n",
       "      <td>57</td>\n",
       "      <td>No injury to occupant, outrigger canoe and pad...</td>\n",
       "      <td>N</td>\n",
       "      <td>18h00</td>\n",
       "      <td>White shark</td>\n",
       "      <td>R. Collier, GSAF</td>\n",
       "      <td>2018.06.25-Wolfe.pdf</td>\n",
       "      <td>http://sharkattackfile.net/spreadsheets/pdf_di...</td>\n",
       "      <td>http://sharkattackfile.net/spreadsheets/pdf_di...</td>\n",
       "      <td>2018.06.25</td>\n",
       "      <td>2018.06.25</td>\n",
       "      <td>6303.0</td>\n",
       "      <td>NaN</td>\n",
       "      <td>NaN</td>\n",
       "    </tr>\n",
       "    <tr>\n",
       "      <th>1</th>\n",
       "      <td>2018.06.18</td>\n",
       "      <td>18-Jun-2018</td>\n",
       "      <td>2018.0</td>\n",
       "      <td>Unprovoked</td>\n",
       "      <td>USA</td>\n",
       "      <td>Georgia</td>\n",
       "      <td>St. Simon Island, Glynn County</td>\n",
       "      <td>Standing</td>\n",
       "      <td>Adyson McNeely</td>\n",
       "      <td>F</td>\n",
       "      <td>11</td>\n",
       "      <td>Minor injury to left thigh</td>\n",
       "      <td>N</td>\n",
       "      <td>14h00  -15h00</td>\n",
       "      <td>NaN</td>\n",
       "      <td>K.McMurray, TrackingSharks.com</td>\n",
       "      <td>2018.06.18-McNeely.pdf</td>\n",
       "      <td>http://sharkattackfile.net/spreadsheets/pdf_di...</td>\n",
       "      <td>http://sharkattackfile.net/spreadsheets/pdf_di...</td>\n",
       "      <td>2018.06.18</td>\n",
       "      <td>2018.06.18</td>\n",
       "      <td>6302.0</td>\n",
       "      <td>NaN</td>\n",
       "      <td>NaN</td>\n",
       "    </tr>\n",
       "    <tr>\n",
       "      <th>2</th>\n",
       "      <td>2018.06.09</td>\n",
       "      <td>09-Jun-2018</td>\n",
       "      <td>2018.0</td>\n",
       "      <td>Invalid</td>\n",
       "      <td>USA</td>\n",
       "      <td>Hawaii</td>\n",
       "      <td>Habush, Oahu</td>\n",
       "      <td>Surfing</td>\n",
       "      <td>John Denges</td>\n",
       "      <td>M</td>\n",
       "      <td>48</td>\n",
       "      <td>Injury to left lower leg from surfboard skeg</td>\n",
       "      <td>N</td>\n",
       "      <td>07h45</td>\n",
       "      <td>NaN</td>\n",
       "      <td>K.McMurray, TrackingSharks.com</td>\n",
       "      <td>2018.06.09-Denges.pdf</td>\n",
       "      <td>http://sharkattackfile.net/spreadsheets/pdf_di...</td>\n",
       "      <td>http://sharkattackfile.net/spreadsheets/pdf_di...</td>\n",
       "      <td>2018.06.09</td>\n",
       "      <td>2018.06.09</td>\n",
       "      <td>6301.0</td>\n",
       "      <td>NaN</td>\n",
       "      <td>NaN</td>\n",
       "    </tr>\n",
       "    <tr>\n",
       "      <th>3</th>\n",
       "      <td>2018.06.08</td>\n",
       "      <td>08-Jun-2018</td>\n",
       "      <td>2018.0</td>\n",
       "      <td>Unprovoked</td>\n",
       "      <td>AUSTRALIA</td>\n",
       "      <td>New South Wales</td>\n",
       "      <td>Arrawarra Headland</td>\n",
       "      <td>Surfing</td>\n",
       "      <td>male</td>\n",
       "      <td>M</td>\n",
       "      <td>NaN</td>\n",
       "      <td>Minor injury to lower leg</td>\n",
       "      <td>N</td>\n",
       "      <td>NaN</td>\n",
       "      <td>2 m shark</td>\n",
       "      <td>B. Myatt, GSAF</td>\n",
       "      <td>2018.06.08-Arrawarra.pdf</td>\n",
       "      <td>http://sharkattackfile.net/spreadsheets/pdf_di...</td>\n",
       "      <td>http://sharkattackfile.net/spreadsheets/pdf_di...</td>\n",
       "      <td>2018.06.08</td>\n",
       "      <td>2018.06.08</td>\n",
       "      <td>6300.0</td>\n",
       "      <td>NaN</td>\n",
       "      <td>NaN</td>\n",
       "    </tr>\n",
       "    <tr>\n",
       "      <th>4</th>\n",
       "      <td>2018.06.04</td>\n",
       "      <td>04-Jun-2018</td>\n",
       "      <td>2018.0</td>\n",
       "      <td>Provoked</td>\n",
       "      <td>MEXICO</td>\n",
       "      <td>Colima</td>\n",
       "      <td>La Ticla</td>\n",
       "      <td>Free diving</td>\n",
       "      <td>Gustavo Ramos</td>\n",
       "      <td>M</td>\n",
       "      <td>NaN</td>\n",
       "      <td>Lacerations to leg &amp; hand shark PROVOKED INCIDENT</td>\n",
       "      <td>N</td>\n",
       "      <td>NaN</td>\n",
       "      <td>Tiger shark, 3m</td>\n",
       "      <td>A .Kipper</td>\n",
       "      <td>2018.06.04-Ramos.pdf</td>\n",
       "      <td>http://sharkattackfile.net/spreadsheets/pdf_di...</td>\n",
       "      <td>http://sharkattackfile.net/spreadsheets/pdf_di...</td>\n",
       "      <td>2018.06.04</td>\n",
       "      <td>2018.06.04</td>\n",
       "      <td>6299.0</td>\n",
       "      <td>NaN</td>\n",
       "      <td>NaN</td>\n",
       "    </tr>\n",
       "    <tr>\n",
       "      <th>5</th>\n",
       "      <td>2018.06.03.b</td>\n",
       "      <td>03-Jun-2018</td>\n",
       "      <td>2018.0</td>\n",
       "      <td>Unprovoked</td>\n",
       "      <td>AUSTRALIA</td>\n",
       "      <td>New South Wales</td>\n",
       "      <td>Flat Rock, Ballina</td>\n",
       "      <td>Kite surfing</td>\n",
       "      <td>Chris</td>\n",
       "      <td>M</td>\n",
       "      <td>NaN</td>\n",
       "      <td>No injury, board bitten</td>\n",
       "      <td>N</td>\n",
       "      <td>NaN</td>\n",
       "      <td>NaN</td>\n",
       "      <td>Daily Telegraph, 6/4/2018</td>\n",
       "      <td>2018.06.03.b-FlatRock.pdf</td>\n",
       "      <td>http://sharkattackfile.net/spreadsheets/pdf_di...</td>\n",
       "      <td>http://sharkattackfile.net/spreadsheets/pdf_di...</td>\n",
       "      <td>2018.06.03.b</td>\n",
       "      <td>2018.06.03.b</td>\n",
       "      <td>6298.0</td>\n",
       "      <td>NaN</td>\n",
       "      <td>NaN</td>\n",
       "    </tr>\n",
       "    <tr>\n",
       "      <th>6</th>\n",
       "      <td>2018.06.03.a</td>\n",
       "      <td>03-Jun-2018</td>\n",
       "      <td>2018.0</td>\n",
       "      <td>Unprovoked</td>\n",
       "      <td>BRAZIL</td>\n",
       "      <td>Pernambuco</td>\n",
       "      <td>Piedade Beach, Recife</td>\n",
       "      <td>Swimming</td>\n",
       "      <td>Jose Ernesto da Silva</td>\n",
       "      <td>M</td>\n",
       "      <td>18</td>\n",
       "      <td>FATAL</td>\n",
       "      <td>Y</td>\n",
       "      <td>Late afternoon</td>\n",
       "      <td>Tiger shark</td>\n",
       "      <td>Diario de Pernambuco, 6/4/2018</td>\n",
       "      <td>2018.06.03.a-daSilva.pdf</td>\n",
       "      <td>http://sharkattackfile.net/spreadsheets/pdf_di...</td>\n",
       "      <td>http://sharkattackfile.net/spreadsheets/pdf_di...</td>\n",
       "      <td>2018.06.03.a</td>\n",
       "      <td>2018.06.03.a</td>\n",
       "      <td>6297.0</td>\n",
       "      <td>NaN</td>\n",
       "      <td>NaN</td>\n",
       "    </tr>\n",
       "    <tr>\n",
       "      <th>7</th>\n",
       "      <td>2018.05.27</td>\n",
       "      <td>27-May-2018</td>\n",
       "      <td>2018.0</td>\n",
       "      <td>Unprovoked</td>\n",
       "      <td>USA</td>\n",
       "      <td>Florida</td>\n",
       "      <td>Lighhouse Point Park, Ponce Inlet, Volusia County</td>\n",
       "      <td>Fishing</td>\n",
       "      <td>male</td>\n",
       "      <td>M</td>\n",
       "      <td>52</td>\n",
       "      <td>Minor injury to foot. PROVOKED INCIDENT</td>\n",
       "      <td>N</td>\n",
       "      <td>NaN</td>\n",
       "      <td>Lemon shark, 3'</td>\n",
       "      <td>K. McMurray, TrackingSharks.com</td>\n",
       "      <td>2018.05.27-Ponce.pdf</td>\n",
       "      <td>http://sharkattackfile.net/spreadsheets/pdf_di...</td>\n",
       "      <td>http://sharkattackfile.net/spreadsheets/pdf_di...</td>\n",
       "      <td>2018.05.27</td>\n",
       "      <td>2018.05.27</td>\n",
       "      <td>6296.0</td>\n",
       "      <td>NaN</td>\n",
       "      <td>NaN</td>\n",
       "    </tr>\n",
       "    <tr>\n",
       "      <th>8</th>\n",
       "      <td>2018.05.26.b</td>\n",
       "      <td>26-May-2018</td>\n",
       "      <td>2018.0</td>\n",
       "      <td>Unprovoked</td>\n",
       "      <td>USA</td>\n",
       "      <td>Florida</td>\n",
       "      <td>Cocoa Beach, Brevard  County</td>\n",
       "      <td>Walking</td>\n",
       "      <td>Cody High</td>\n",
       "      <td>M</td>\n",
       "      <td>15</td>\n",
       "      <td>Lower left leg bitten</td>\n",
       "      <td>N</td>\n",
       "      <td>17h00</td>\n",
       "      <td>Bull shark, 6'</td>\n",
       "      <td>K.McMurray, TrackingSharks.com</td>\n",
       "      <td>2018.05.26.b-High.pdf</td>\n",
       "      <td>http://sharkattackfile.net/spreadsheets/pdf_di...</td>\n",
       "      <td>http://sharkattackfile.net/spreadsheets/pdf_di...</td>\n",
       "      <td>2018.05.26.b</td>\n",
       "      <td>2018.05.26.b</td>\n",
       "      <td>6295.0</td>\n",
       "      <td>NaN</td>\n",
       "      <td>NaN</td>\n",
       "    </tr>\n",
       "    <tr>\n",
       "      <th>9</th>\n",
       "      <td>2018.05.26.a</td>\n",
       "      <td>26-May-2018</td>\n",
       "      <td>2018.0</td>\n",
       "      <td>Unprovoked</td>\n",
       "      <td>USA</td>\n",
       "      <td>Florida</td>\n",
       "      <td>Daytona Beach, Volusia County</td>\n",
       "      <td>Standing</td>\n",
       "      <td>male</td>\n",
       "      <td>M</td>\n",
       "      <td>12</td>\n",
       "      <td>Minor injury to foot</td>\n",
       "      <td>N</td>\n",
       "      <td>14h00</td>\n",
       "      <td>NaN</td>\n",
       "      <td>K. McMurray, Tracking Sharks.com</td>\n",
       "      <td>2018.05.26.a-DaytonaBeach.pdf</td>\n",
       "      <td>http://sharkattackfile.net/spreadsheets/pdf_di...</td>\n",
       "      <td>http://sharkattackfile.net/spreadsheets/pdf_di...</td>\n",
       "      <td>2018.05.26.a</td>\n",
       "      <td>2018.05.26.a</td>\n",
       "      <td>6294.0</td>\n",
       "      <td>NaN</td>\n",
       "      <td>NaN</td>\n",
       "    </tr>\n",
       "  </tbody>\n",
       "</table>\n",
       "</div>"
      ],
      "text/plain": [
       "    Case Number         Date    Year        Type    Country             Area  \\\n",
       "0    2018.06.25  25-Jun-2018  2018.0     Boating        USA       California   \n",
       "1    2018.06.18  18-Jun-2018  2018.0  Unprovoked        USA          Georgia   \n",
       "2    2018.06.09  09-Jun-2018  2018.0     Invalid        USA           Hawaii   \n",
       "3    2018.06.08  08-Jun-2018  2018.0  Unprovoked  AUSTRALIA  New South Wales   \n",
       "4    2018.06.04  04-Jun-2018  2018.0    Provoked     MEXICO           Colima   \n",
       "5  2018.06.03.b  03-Jun-2018  2018.0  Unprovoked  AUSTRALIA  New South Wales   \n",
       "6  2018.06.03.a  03-Jun-2018  2018.0  Unprovoked     BRAZIL       Pernambuco   \n",
       "7    2018.05.27  27-May-2018  2018.0  Unprovoked        USA          Florida   \n",
       "8  2018.05.26.b  26-May-2018  2018.0  Unprovoked        USA          Florida   \n",
       "9  2018.05.26.a  26-May-2018  2018.0  Unprovoked        USA          Florida   \n",
       "\n",
       "                                            Location      Activity  \\\n",
       "0                        Oceanside, San Diego County      Paddling   \n",
       "1                     St. Simon Island, Glynn County      Standing   \n",
       "2                                       Habush, Oahu       Surfing   \n",
       "3                                 Arrawarra Headland       Surfing   \n",
       "4                                           La Ticla   Free diving   \n",
       "5                                 Flat Rock, Ballina  Kite surfing   \n",
       "6                              Piedade Beach, Recife      Swimming   \n",
       "7  Lighhouse Point Park, Ponce Inlet, Volusia County       Fishing   \n",
       "8                       Cocoa Beach, Brevard  County       Walking   \n",
       "9                      Daytona Beach, Volusia County      Standing   \n",
       "\n",
       "                     Name Sex   Age  \\\n",
       "0             Julie Wolfe    F   57   \n",
       "1         Adyson McNeely     F   11   \n",
       "2             John Denges    M   48   \n",
       "3                    male    M  NaN   \n",
       "4          Gustavo Ramos     M  NaN   \n",
       "5                 Chris \n",
       "    M  NaN   \n",
       "6  Jose Ernesto da Silva     M   18   \n",
       "7                    male    M   52   \n",
       "8               Cody High    M   15   \n",
       "9                    male    M   12   \n",
       "\n",
       "                                              Injury Fatal (Y/N)  \\\n",
       "0  No injury to occupant, outrigger canoe and pad...           N   \n",
       "1                         Minor injury to left thigh           N   \n",
       "2       Injury to left lower leg from surfboard skeg           N   \n",
       "3                          Minor injury to lower leg           N   \n",
       "4  Lacerations to leg & hand shark PROVOKED INCIDENT           N   \n",
       "5                            No injury, board bitten           N   \n",
       "6                                              FATAL           Y   \n",
       "7            Minor injury to foot. PROVOKED INCIDENT           N   \n",
       "8                              Lower left leg bitten           N   \n",
       "9                               Minor injury to foot           N   \n",
       "\n",
       "             Time         Species             Investigator or Source  \\\n",
       "0           18h00      White shark                  R. Collier, GSAF   \n",
       "1   14h00  -15h00              NaN    K.McMurray, TrackingSharks.com   \n",
       "2           07h45              NaN    K.McMurray, TrackingSharks.com   \n",
       "3             NaN        2 m shark                    B. Myatt, GSAF   \n",
       "4             NaN  Tiger shark, 3m                         A .Kipper   \n",
       "5             NaN              NaN         Daily Telegraph, 6/4/2018   \n",
       "6  Late afternoon      Tiger shark    Diario de Pernambuco, 6/4/2018   \n",
       "7             NaN  Lemon shark, 3'   K. McMurray, TrackingSharks.com   \n",
       "8           17h00   Bull shark, 6'    K.McMurray, TrackingSharks.com   \n",
       "9           14h00              NaN  K. McMurray, Tracking Sharks.com   \n",
       "\n",
       "                             pdf  \\\n",
       "0           2018.06.25-Wolfe.pdf   \n",
       "1         2018.06.18-McNeely.pdf   \n",
       "2          2018.06.09-Denges.pdf   \n",
       "3       2018.06.08-Arrawarra.pdf   \n",
       "4           2018.06.04-Ramos.pdf   \n",
       "5      2018.06.03.b-FlatRock.pdf   \n",
       "6       2018.06.03.a-daSilva.pdf   \n",
       "7           2018.05.27-Ponce.pdf   \n",
       "8          2018.05.26.b-High.pdf   \n",
       "9  2018.05.26.a-DaytonaBeach.pdf   \n",
       "\n",
       "                                        href formula  \\\n",
       "0  http://sharkattackfile.net/spreadsheets/pdf_di...   \n",
       "1  http://sharkattackfile.net/spreadsheets/pdf_di...   \n",
       "2  http://sharkattackfile.net/spreadsheets/pdf_di...   \n",
       "3  http://sharkattackfile.net/spreadsheets/pdf_di...   \n",
       "4  http://sharkattackfile.net/spreadsheets/pdf_di...   \n",
       "5  http://sharkattackfile.net/spreadsheets/pdf_di...   \n",
       "6  http://sharkattackfile.net/spreadsheets/pdf_di...   \n",
       "7  http://sharkattackfile.net/spreadsheets/pdf_di...   \n",
       "8  http://sharkattackfile.net/spreadsheets/pdf_di...   \n",
       "9  http://sharkattackfile.net/spreadsheets/pdf_di...   \n",
       "\n",
       "                                                href Case Number.1  \\\n",
       "0  http://sharkattackfile.net/spreadsheets/pdf_di...    2018.06.25   \n",
       "1  http://sharkattackfile.net/spreadsheets/pdf_di...    2018.06.18   \n",
       "2  http://sharkattackfile.net/spreadsheets/pdf_di...    2018.06.09   \n",
       "3  http://sharkattackfile.net/spreadsheets/pdf_di...    2018.06.08   \n",
       "4  http://sharkattackfile.net/spreadsheets/pdf_di...    2018.06.04   \n",
       "5  http://sharkattackfile.net/spreadsheets/pdf_di...  2018.06.03.b   \n",
       "6  http://sharkattackfile.net/spreadsheets/pdf_di...  2018.06.03.a   \n",
       "7  http://sharkattackfile.net/spreadsheets/pdf_di...    2018.05.27   \n",
       "8  http://sharkattackfile.net/spreadsheets/pdf_di...  2018.05.26.b   \n",
       "9  http://sharkattackfile.net/spreadsheets/pdf_di...  2018.05.26.a   \n",
       "\n",
       "  Case Number.2  original order Unnamed: 22 Unnamed: 23  \n",
       "0    2018.06.25          6303.0         NaN         NaN  \n",
       "1    2018.06.18          6302.0         NaN         NaN  \n",
       "2    2018.06.09          6301.0         NaN         NaN  \n",
       "3    2018.06.08          6300.0         NaN         NaN  \n",
       "4    2018.06.04          6299.0         NaN         NaN  \n",
       "5  2018.06.03.b          6298.0         NaN         NaN  \n",
       "6  2018.06.03.a          6297.0         NaN         NaN  \n",
       "7    2018.05.27          6296.0         NaN         NaN  \n",
       "8  2018.05.26.b          6295.0         NaN         NaN  \n",
       "9  2018.05.26.a          6294.0         NaN         NaN  "
      ]
     },
     "execution_count": 4,
     "metadata": {},
     "output_type": "execute_result"
    }
   ],
   "source": [
    "df.head(10)"
   ]
  },
  {
   "cell_type": "markdown",
   "id": "b20368f1",
   "metadata": {},
   "source": [
    "Se procede a definir parámetros básicos del df así como a crear una copia para trabajarla sin tocar la original"
   ]
  },
  {
   "cell_type": "code",
   "execution_count": 5,
   "id": "55bf3dc7",
   "metadata": {},
   "outputs": [],
   "source": [
    "df1=df.copy()"
   ]
  },
  {
   "cell_type": "code",
   "execution_count": 6,
   "id": "62604b86",
   "metadata": {},
   "outputs": [
    {
     "data": {
      "text/plain": [
       "Index(['Case Number', 'Date', 'Year', 'Type', 'Country', 'Area', 'Location',\n",
       "       'Activity', 'Name', 'Sex ', 'Age', 'Injury', 'Fatal (Y/N)', 'Time',\n",
       "       'Species ', 'Investigator or Source', 'pdf', 'href formula', 'href',\n",
       "       'Case Number.1', 'Case Number.2', 'original order', 'Unnamed: 22',\n",
       "       'Unnamed: 23'],\n",
       "      dtype='object')"
      ]
     },
     "execution_count": 6,
     "metadata": {},
     "output_type": "execute_result"
    }
   ],
   "source": [
    "df1.columns"
   ]
  },
  {
   "cell_type": "code",
   "execution_count": 7,
   "id": "9e0824eb",
   "metadata": {},
   "outputs": [
    {
     "data": {
      "text/plain": [
       "(25723, 24)"
      ]
     },
     "execution_count": 7,
     "metadata": {},
     "output_type": "execute_result"
    }
   ],
   "source": [
    "df1.shape"
   ]
  },
  {
   "cell_type": "markdown",
   "id": "bc25b104",
   "metadata": {},
   "source": [
    "# LIMPIEZA "
   ]
  },
  {
   "cell_type": "markdown",
   "id": "d3b74195",
   "metadata": {},
   "source": [
    "# 1) Duplicados"
   ]
  },
  {
   "cell_type": "markdown",
   "id": "88704f02",
   "metadata": {},
   "source": [
    "Comprobar si hay duplicados y eliminarlos para trabajar sobre datos particulares"
   ]
  },
  {
   "cell_type": "code",
   "execution_count": 8,
   "id": "cf7fa047",
   "metadata": {},
   "outputs": [],
   "source": [
    "df1.drop_duplicates(inplace=True) "
   ]
  },
  {
   "cell_type": "code",
   "execution_count": 9,
   "id": "3b1b2cdb",
   "metadata": {},
   "outputs": [
    {
     "data": {
      "text/plain": [
       "(6312, 24)"
      ]
     },
     "execution_count": 9,
     "metadata": {},
     "output_type": "execute_result"
    }
   ],
   "source": [
    "df1.shape"
   ]
  },
  {
   "cell_type": "markdown",
   "id": "f3152cd3",
   "metadata": {},
   "source": [
    "La lista contenía muchas filas vacías de forma repetitiva que no aportaban información por lo que se han eliminado"
   ]
  },
  {
   "cell_type": "markdown",
   "id": "10dd0278",
   "metadata": {},
   "source": [
    "# 2) Eliminación de nulos"
   ]
  },
  {
   "cell_type": "markdown",
   "id": "270c44ad",
   "metadata": {},
   "source": [
    "2) Búsqueda de nulos para tomar decisiones de eliminación de datos. Primero por columnas y luego por filas"
   ]
  },
  {
   "cell_type": "code",
   "execution_count": 10,
   "id": "6b8853b7",
   "metadata": {},
   "outputs": [
    {
     "data": {
      "text/plain": [
       "Case Number                  2\n",
       "Date                        10\n",
       "Year                        12\n",
       "Type                        14\n",
       "Country                     60\n",
       "Area                       465\n",
       "Location                   550\n",
       "Activity                   554\n",
       "Name                       220\n",
       "Sex                        575\n",
       "Age                       2841\n",
       "Injury                      38\n",
       "Fatal (Y/N)                549\n",
       "Time                      3364\n",
       "Species                   2848\n",
       "Investigator or Source      27\n",
       "pdf                         10\n",
       "href formula                11\n",
       "href                        10\n",
       "Case Number.1               10\n",
       "Case Number.2               10\n",
       "original order               3\n",
       "Unnamed: 22               6311\n",
       "Unnamed: 23               6310\n",
       "dtype: int64"
      ]
     },
     "execution_count": 10,
     "metadata": {},
     "output_type": "execute_result"
    }
   ],
   "source": [
    "nancols = df1.isnull().sum()\n",
    "\n",
    "nancols[nancols>0]"
   ]
  },
  {
   "cell_type": "markdown",
   "id": "2e6f52c8",
   "metadata": {},
   "source": [
    "Se observa que las columnas 'unnamed: 22' y 'unnamed: 23' tienen casi la totalidad de sus datos nulos por lo que podemos prescindir de estas dos columnas ya que no aportan información. El resto de columnas tienen menos del 80% de nulos por lo que no podemos eliminarlas según los requisitos"
   ]
  },
  {
   "cell_type": "code",
   "execution_count": 11,
   "id": "5e628777",
   "metadata": {},
   "outputs": [
    {
     "data": {
      "text/plain": [
       "Index(['Case Number', 'Date', 'Year', 'Type', 'Country', 'Area', 'Location',\n",
       "       'Activity', 'Name', 'Sex ', 'Age', 'Injury', 'Fatal (Y/N)', 'Time',\n",
       "       'Species ', 'Investigator or Source', 'pdf', 'href formula', 'href',\n",
       "       'Case Number.1', 'Case Number.2', 'original order'],\n",
       "      dtype='object')"
      ]
     },
     "execution_count": 11,
     "metadata": {},
     "output_type": "execute_result"
    }
   ],
   "source": [
    "df1.drop(['Unnamed: 22','Unnamed: 23'], axis=1, inplace=True)\n",
    "\n",
    "df1.columns"
   ]
  },
  {
   "cell_type": "markdown",
   "id": "2ed02c0c",
   "metadata": {},
   "source": [
    "Se procede a comprobar si hay filas con elevado numero de nulos (>90% de 22 columnas) para eliminarlas al no aportar información"
   ]
  },
  {
   "cell_type": "code",
   "execution_count": 12,
   "id": "198149f9",
   "metadata": {},
   "outputs": [
    {
     "data": {
      "text/plain": [
       "6302     20\n",
       "6303     20\n",
       "6304     20\n",
       "6305     20\n",
       "6306     20\n",
       "6307     20\n",
       "6308     20\n",
       "6309     21\n",
       "8702     22\n",
       "25722    21\n",
       "dtype: int64"
      ]
     },
     "execution_count": 12,
     "metadata": {},
     "output_type": "execute_result"
    }
   ],
   "source": [
    "nanrows = df1.isnull().sum(axis=1)\n",
    "\n",
    "nanrows= nanrows[nanrows>=20]\n",
    "\n",
    "nanrows"
   ]
  },
  {
   "cell_type": "code",
   "execution_count": 13,
   "id": "92a63761",
   "metadata": {},
   "outputs": [],
   "source": [
    "nanrowslist= list(nanrows.index)"
   ]
  },
  {
   "cell_type": "code",
   "execution_count": 14,
   "id": "7bc6dc94",
   "metadata": {},
   "outputs": [],
   "source": [
    "df1.drop(nanrowslist, axis=0, inplace=True)"
   ]
  },
  {
   "cell_type": "code",
   "execution_count": 15,
   "id": "4e6a86c1",
   "metadata": {},
   "outputs": [
    {
     "data": {
      "text/plain": [
       "(6302, 22)"
      ]
     },
     "execution_count": 15,
     "metadata": {},
     "output_type": "execute_result"
    }
   ],
   "source": [
    "df1.shape"
   ]
  },
  {
   "cell_type": "markdown",
   "id": "42599af5",
   "metadata": {},
   "source": [
    "# 3) Búsqueda de nulos y reemplazo de valores"
   ]
  },
  {
   "cell_type": "markdown",
   "id": "882b78d3",
   "metadata": {},
   "source": [
    "Ya se ha comprobado que hay valores nulos en muchas columnas así que hay que reemplazarlos por otros valores"
   ]
  },
  {
   "cell_type": "code",
   "execution_count": 16,
   "id": "e7ba4b0e",
   "metadata": {},
   "outputs": [
    {
     "data": {
      "text/plain": [
       "Case Number                  2\n",
       "Date                        10\n",
       "Year                        12\n",
       "Type                        14\n",
       "Country                     60\n",
       "Area                       465\n",
       "Location                   550\n",
       "Activity                   554\n",
       "Name                       220\n",
       "Sex                        575\n",
       "Age                       2841\n",
       "Injury                      38\n",
       "Fatal (Y/N)                549\n",
       "Time                      3364\n",
       "Species                   2848\n",
       "Investigator or Source      27\n",
       "pdf                         10\n",
       "href formula                11\n",
       "href                        10\n",
       "Case Number.1               10\n",
       "Case Number.2               10\n",
       "original order               3\n",
       "Unnamed: 22               6311\n",
       "Unnamed: 23               6310\n",
       "dtype: int64"
      ]
     },
     "execution_count": 16,
     "metadata": {},
     "output_type": "execute_result"
    }
   ],
   "source": [
    "nancols"
   ]
  },
  {
   "cell_type": "markdown",
   "id": "dfb3055d",
   "metadata": {},
   "source": [
    "Los datos nulos de estas columnas se sustituirán por 'unknown' o'not declared' para tener la tabla sin vacíos pero hay que renombrar algunos nombres de columna para poder referirnos a ellas (contienen espacios)"
   ]
  },
  {
   "cell_type": "code",
   "execution_count": 17,
   "id": "6a9b06b8",
   "metadata": {},
   "outputs": [
    {
     "data": {
      "text/plain": [
       "Index(['case_number', 'date', 'year', 'type', 'country', 'area', 'location',\n",
       "       'activity', 'name', 'sex_', 'age', 'injury', 'fatal_(y/n)', 'time',\n",
       "       'species_', 'investigator_or_source', 'pdf', 'href_formula', 'href',\n",
       "       'case_number.1', 'case_number.2', 'original_order'],\n",
       "      dtype='object')"
      ]
     },
     "execution_count": 17,
     "metadata": {},
     "output_type": "execute_result"
    }
   ],
   "source": [
    "df1.columns=[c.lower().replace(' ', '_') for c in df1.columns]\n",
    "\n",
    "df1.columns"
   ]
  },
  {
   "cell_type": "markdown",
   "id": "b7d7d164",
   "metadata": {},
   "source": [
    "Se ha encontrado que la variable sex y species tenían un espacio que ha sido renombrado con un '_'. También se modifica la variable fatal_(y/n) por error de transcripción. Se han modificado para tener el nombre correctamente"
   ]
  },
  {
   "cell_type": "code",
   "execution_count": 18,
   "id": "2d921cbe",
   "metadata": {},
   "outputs": [
    {
     "data": {
      "text/plain": [
       "Index(['case_number', 'date', 'year', 'type', 'country', 'area', 'location',\n",
       "       'activity', 'name', 'sex', 'age', 'injury', 'fatal', 'time', 'species',\n",
       "       'investigator_or_source', 'pdf', 'href_formula', 'href',\n",
       "       'case_number.1', 'case_number.2', 'original_order'],\n",
       "      dtype='object')"
      ]
     },
     "execution_count": 18,
     "metadata": {},
     "output_type": "execute_result"
    }
   ],
   "source": [
    "df1.rename(columns={'sex_': 'sex','species_': 'species', 'fatal_(y/n)': 'fatal'}, inplace=True)\n",
    "\n",
    "df1.columns"
   ]
  },
  {
   "cell_type": "markdown",
   "id": "e70c9953",
   "metadata": {},
   "source": [
    "Se cambia el nombre de los nulos de las columnas categóricas y alguna numérica: se añade 'not declared' a los datos nulos sobre datos personales de los afectados y 'unknown' para el resto de valores nulos que son de origen desconocido."
   ]
  },
  {
   "cell_type": "code",
   "execution_count": 19,
   "id": "719f6a53",
   "metadata": {},
   "outputs": [],
   "source": [
    "df1.fillna({'case_number': 'unknown', 'type': 'unknown', 'country': 'unknown', 'area': 'unknown', 'location': 'unknown', 'activity': 'unknown', 'name': 'not declared', 'sex': 'not declared', 'injury': 'unknown', 'fatal': 'unknown', 'time': 'unknown', 'species': 'unknown', 'investigator_or_source': 'unknown', 'pdf': 'unknown', 'href_formula': 'unknown', 'href': 'unknown'}, inplace=True)"
   ]
  },
  {
   "cell_type": "markdown",
   "id": "e7c6eb75",
   "metadata": {},
   "source": [
    "Para columnas numéricas tales como date, year and age se investiga primero el tipo de dato y se trabaja a partir de él. Empezamos con year, que es float y lo queremos en int para tener todos los valores por año correctamente. Sus valores nulos serán ceros para poder trabajar con la columna."
   ]
  },
  {
   "cell_type": "code",
   "execution_count": 20,
   "id": "965cb05a",
   "metadata": {},
   "outputs": [
    {
     "data": {
      "text/plain": [
       "array([2018., 2017.,   nan, 2016., 2015., 2014., 2013., 2012., 2011.,\n",
       "       2010., 2009., 2008., 2007., 2006., 2005., 2004., 2003., 2002.,\n",
       "       2001., 2000., 1999., 1998., 1997., 1996., 1995., 1984., 1994.,\n",
       "       1993., 1992., 1991., 1990., 1989., 1969., 1988., 1987., 1986.,\n",
       "       1985., 1983., 1982., 1981., 1980., 1979., 1978., 1977., 1976.,\n",
       "       1975., 1974., 1973., 1972., 1971., 1970., 1968., 1967., 1966.,\n",
       "       1965., 1964., 1963., 1962., 1961., 1960., 1959., 1958., 1957.,\n",
       "       1956., 1955., 1954., 1953., 1952., 1951., 1950., 1949., 1948.,\n",
       "       1848., 1947., 1946., 1945., 1944., 1943., 1942., 1941., 1940.,\n",
       "       1939., 1938., 1937., 1936., 1935., 1934., 1933., 1932., 1931.,\n",
       "       1930., 1929., 1928., 1927., 1926., 1925., 1924., 1923., 1922.,\n",
       "       1921., 1920., 1919., 1918., 1917., 1916., 1915., 1914., 1913.,\n",
       "       1912., 1911., 1910., 1909., 1908., 1907., 1906., 1905., 1904.,\n",
       "       1903., 1902., 1901., 1900., 1899., 1898., 1897., 1896., 1895.,\n",
       "       1894., 1893., 1892., 1891., 1890., 1889., 1888., 1887., 1886.,\n",
       "       1885., 1884., 1883., 1882., 1881., 1880., 1879., 1878., 1877.,\n",
       "       1876., 1875., 1874., 1873., 1872., 1871., 1870., 1869., 1868.,\n",
       "       1867., 1866., 1865., 1864., 1863., 1862., 1861., 1860., 1859.,\n",
       "       1858., 1857., 1856., 1855., 1853., 1852., 1851., 1850., 1849.,\n",
       "       1847., 1846., 1845., 1844., 1842., 1841., 1840., 1839., 1837.,\n",
       "       1836., 1835., 1834., 1832., 1831., 1830., 1829., 1828., 1827.,\n",
       "       1826., 1825., 1823., 1822., 1819., 1818., 1817., 1816., 1815.,\n",
       "       1812., 1811., 1810., 1808., 1807., 1805., 1804., 1803., 1802.,\n",
       "       1801., 1800., 1797., 1792., 1791., 1788., 1787., 1786., 1785.,\n",
       "       1784., 1783., 1780., 1779., 1776., 1771., 1767., 1764., 1758.,\n",
       "       1753., 1751., 1749., 1755., 1748., 1742., 1738., 1733., 1723.,\n",
       "       1721., 1703., 1700., 1642., 1638., 1637., 1617., 1595., 1580.,\n",
       "       1555., 1554., 1543.,  500.,   77.,    5.,    0.])"
      ]
     },
     "execution_count": 20,
     "metadata": {},
     "output_type": "execute_result"
    }
   ],
   "source": [
    "df1.year.unique()"
   ]
  },
  {
   "cell_type": "code",
   "execution_count": 21,
   "id": "8663a652",
   "metadata": {},
   "outputs": [],
   "source": [
    "df1.fillna({'year': 0.0}, inplace=True)"
   ]
  },
  {
   "cell_type": "code",
   "execution_count": 22,
   "id": "4be15889",
   "metadata": {},
   "outputs": [],
   "source": [
    "df1['year'] = df1['year'].astype(int)"
   ]
  },
  {
   "cell_type": "code",
   "execution_count": 23,
   "id": "632c13ea",
   "metadata": {},
   "outputs": [
    {
     "data": {
      "text/plain": [
       "array([2018, 2017,    0, 2016, 2015, 2014, 2013, 2012, 2011, 2010, 2009,\n",
       "       2008, 2007, 2006, 2005, 2004, 2003, 2002, 2001, 2000, 1999, 1998,\n",
       "       1997, 1996, 1995, 1984, 1994, 1993, 1992, 1991, 1990, 1989, 1969,\n",
       "       1988, 1987, 1986, 1985, 1983, 1982, 1981, 1980, 1979, 1978, 1977,\n",
       "       1976, 1975, 1974, 1973, 1972, 1971, 1970, 1968, 1967, 1966, 1965,\n",
       "       1964, 1963, 1962, 1961, 1960, 1959, 1958, 1957, 1956, 1955, 1954,\n",
       "       1953, 1952, 1951, 1950, 1949, 1948, 1848, 1947, 1946, 1945, 1944,\n",
       "       1943, 1942, 1941, 1940, 1939, 1938, 1937, 1936, 1935, 1934, 1933,\n",
       "       1932, 1931, 1930, 1929, 1928, 1927, 1926, 1925, 1924, 1923, 1922,\n",
       "       1921, 1920, 1919, 1918, 1917, 1916, 1915, 1914, 1913, 1912, 1911,\n",
       "       1910, 1909, 1908, 1907, 1906, 1905, 1904, 1903, 1902, 1901, 1900,\n",
       "       1899, 1898, 1897, 1896, 1895, 1894, 1893, 1892, 1891, 1890, 1889,\n",
       "       1888, 1887, 1886, 1885, 1884, 1883, 1882, 1881, 1880, 1879, 1878,\n",
       "       1877, 1876, 1875, 1874, 1873, 1872, 1871, 1870, 1869, 1868, 1867,\n",
       "       1866, 1865, 1864, 1863, 1862, 1861, 1860, 1859, 1858, 1857, 1856,\n",
       "       1855, 1853, 1852, 1851, 1850, 1849, 1847, 1846, 1845, 1844, 1842,\n",
       "       1841, 1840, 1839, 1837, 1836, 1835, 1834, 1832, 1831, 1830, 1829,\n",
       "       1828, 1827, 1826, 1825, 1823, 1822, 1819, 1818, 1817, 1816, 1815,\n",
       "       1812, 1811, 1810, 1808, 1807, 1805, 1804, 1803, 1802, 1801, 1800,\n",
       "       1797, 1792, 1791, 1788, 1787, 1786, 1785, 1784, 1783, 1780, 1779,\n",
       "       1776, 1771, 1767, 1764, 1758, 1753, 1751, 1749, 1755, 1748, 1742,\n",
       "       1738, 1733, 1723, 1721, 1703, 1700, 1642, 1638, 1637, 1617, 1595,\n",
       "       1580, 1555, 1554, 1543,  500,   77,    5])"
      ]
     },
     "execution_count": 23,
     "metadata": {},
     "output_type": "execute_result"
    }
   ],
   "source": [
    "df1.year.unique()"
   ]
  },
  {
   "cell_type": "markdown",
   "id": "31edb8de",
   "metadata": {},
   "source": [
    "Al observar los valores únicos de la columna, comprobamos que hay años incorrectos, como el 500; 77 y 5. Dado que son valores erróneos, se descartarán. Se toma la decisión de cambiarlos junto a los 0 por 'unknown'. Esta columna, por lo tanto, no será completamente de valores int, será un objeto."
   ]
  },
  {
   "cell_type": "code",
   "execution_count": 24,
   "id": "e98baee3",
   "metadata": {},
   "outputs": [],
   "source": [
    "df1['year'] = df1['year'].apply(str)"
   ]
  },
  {
   "cell_type": "code",
   "execution_count": 25,
   "id": "e71326c5",
   "metadata": {},
   "outputs": [],
   "source": [
    "df1.year.replace({'0': 'unknown', '5': 'unknown', '500': 'unknown', '77': 'unknown'}, inplace=True)"
   ]
  },
  {
   "cell_type": "code",
   "execution_count": 26,
   "id": "3a0b7e7d",
   "metadata": {},
   "outputs": [
    {
     "data": {
      "text/plain": [
       "array(['2018', '2017', 'unknown', '2016', '2015', '2014', '2013', '2012',\n",
       "       '2011', '2010', '2009', '2008', '2007', '2006', '2005', '2004',\n",
       "       '2003', '2002', '2001', '2000', '1999', '1998', '1997', '1996',\n",
       "       '1995', '1984', '1994', '1993', '1992', '1991', '1990', '1989',\n",
       "       '1969', '1988', '1987', '1986', '1985', '1983', '1982', '1981',\n",
       "       '1980', '1979', '1978', '1977', '1976', '1975', '1974', '1973',\n",
       "       '1972', '1971', '1970', '1968', '1967', '1966', '1965', '1964',\n",
       "       '1963', '1962', '1961', '1960', '1959', '1958', '1957', '1956',\n",
       "       '1955', '1954', '1953', '1952', '1951', '1950', '1949', '1948',\n",
       "       '1848', '1947', '1946', '1945', '1944', '1943', '1942', '1941',\n",
       "       '1940', '1939', '1938', '1937', '1936', '1935', '1934', '1933',\n",
       "       '1932', '1931', '1930', '1929', '1928', '1927', '1926', '1925',\n",
       "       '1924', '1923', '1922', '1921', '1920', '1919', '1918', '1917',\n",
       "       '1916', '1915', '1914', '1913', '1912', '1911', '1910', '1909',\n",
       "       '1908', '1907', '1906', '1905', '1904', '1903', '1902', '1901',\n",
       "       '1900', '1899', '1898', '1897', '1896', '1895', '1894', '1893',\n",
       "       '1892', '1891', '1890', '1889', '1888', '1887', '1886', '1885',\n",
       "       '1884', '1883', '1882', '1881', '1880', '1879', '1878', '1877',\n",
       "       '1876', '1875', '1874', '1873', '1872', '1871', '1870', '1869',\n",
       "       '1868', '1867', '1866', '1865', '1864', '1863', '1862', '1861',\n",
       "       '1860', '1859', '1858', '1857', '1856', '1855', '1853', '1852',\n",
       "       '1851', '1850', '1849', '1847', '1846', '1845', '1844', '1842',\n",
       "       '1841', '1840', '1839', '1837', '1836', '1835', '1834', '1832',\n",
       "       '1831', '1830', '1829', '1828', '1827', '1826', '1825', '1823',\n",
       "       '1822', '1819', '1818', '1817', '1816', '1815', '1812', '1811',\n",
       "       '1810', '1808', '1807', '1805', '1804', '1803', '1802', '1801',\n",
       "       '1800', '1797', '1792', '1791', '1788', '1787', '1786', '1785',\n",
       "       '1784', '1783', '1780', '1779', '1776', '1771', '1767', '1764',\n",
       "       '1758', '1753', '1751', '1749', '1755', '1748', '1742', '1738',\n",
       "       '1733', '1723', '1721', '1703', '1700', '1642', '1638', '1637',\n",
       "       '1617', '1595', '1580', '1555', '1554', '1543'], dtype=object)"
      ]
     },
     "execution_count": 26,
     "metadata": {},
     "output_type": "execute_result"
    }
   ],
   "source": [
    "df1.year.unique()"
   ]
  },
  {
   "cell_type": "code",
   "execution_count": 27,
   "id": "34dec185",
   "metadata": {},
   "outputs": [
    {
     "data": {
      "text/plain": [
       "0          2018\n",
       "1          2018\n",
       "2          2018\n",
       "3          2018\n",
       "4          2018\n",
       "         ...   \n",
       "6297    unknown\n",
       "6298    unknown\n",
       "6299    unknown\n",
       "6300    unknown\n",
       "6301    unknown\n",
       "Name: year, Length: 6302, dtype: object"
      ]
     },
     "execution_count": 27,
     "metadata": {},
     "output_type": "execute_result"
    }
   ],
   "source": [
    "df1.year"
   ]
  },
  {
   "cell_type": "markdown",
   "id": "f2c6c632",
   "metadata": {},
   "source": [
    "Para los valores nulos de 'age' se van a sustituir por un valor, pero hay que valorar si es mejor la media, la mediana o la moda. Para ello vamos a establecer un gráfico de distribución de puntos pero antes tenemos que arreglar la columna de 'age', ya que contiene todo tipo de datos."
   ]
  },
  {
   "cell_type": "code",
   "execution_count": 28,
   "id": "39a2451c",
   "metadata": {},
   "outputs": [
    {
     "data": {
      "text/plain": [
       "17                154\n",
       "18                150\n",
       "19                142\n",
       "20                141\n",
       "15                139\n",
       "                 ... \n",
       "20?                 1\n",
       " 28                 1\n",
       "7      &    31      1\n",
       " 30                 1\n",
       "13 or 14            1\n",
       "Name: age, Length: 157, dtype: int64"
      ]
     },
     "execution_count": 28,
     "metadata": {},
     "output_type": "execute_result"
    }
   ],
   "source": [
    "df1.age.value_counts()"
   ]
  },
  {
   "cell_type": "markdown",
   "id": "ae33ad43",
   "metadata": {},
   "source": [
    "En los datos se observan registros que incluían más de una persona en el mismo registro, por lo que deberían registrarse nuevas entradas en el dataframe para estas personas. Finalmente, se ha cogido una única persona por no presuponer la misma información para varias personas. Vamos a quedarnos sólo con los valores numéricos de 1 ó 2 cifras."
   ]
  },
  {
   "cell_type": "code",
   "execution_count": 29,
   "id": "50650cca",
   "metadata": {},
   "outputs": [
    {
     "data": {
      "text/plain": [
       "array(['57', '11', '48', nan, '18', '52', '15', '12', '32', '10', '21',\n",
       "       '34', '30', '60', '33', '29', '54', '41', '37', '56', '19', '25',\n",
       "       '69', '38', '55', '35', '46', '45', '14', '40', '28', '20', '24',\n",
       "       '26', '49', '22', '7', '31', '17', '13', '42', '3', '8', '50',\n",
       "       '16', '82', '73', '68', '51', '39', '58', '47', '61', '65', '36',\n",
       "       '66', '43', '9', '72', '59', '6', '27', '64', '23', '71', '44',\n",
       "       '62', '63', '70', '53', '77', '74', '5', '86', '84', '75', '87',\n",
       "       '67', '1', '2', '81', '78'], dtype=object)"
      ]
     },
     "execution_count": 29,
     "metadata": {},
     "output_type": "execute_result"
    }
   ],
   "source": [
    "def split_age(age):\n",
    "    try:\n",
    "        return re.findall('^(?:\\d{1,2})(?!\\d\\d)', age)\n",
    "    except:\n",
    "        return [np.nan]\n",
    "\n",
    "listage = df1['age'].apply(split_age)\n",
    "\n",
    "listage = listage.to_list()\n",
    "\n",
    "listage2 = []\n",
    "\n",
    "for i in listage:\n",
    "    if len(i) == 1:\n",
    "        for j in i:\n",
    "            listage2.append(j)\n",
    "    elif len(i) == 0:     \n",
    "        listage2.append(np.nan)        \n",
    "    else:\n",
    "        listage2.append(np.nan)\n",
    "      \n",
    "df1['newage']= listage2\n",
    "\n",
    "df1.newage.unique()"
   ]
  },
  {
   "cell_type": "markdown",
   "id": "cabd2bba",
   "metadata": {},
   "source": [
    "Ahora que tenemos los valores organizados vamos a investigar por qué valor sustituir los nulos (si es que merece la pena sustituirlos). Para ello vamos a hacer primero un gráfico de outliers en diagrama de caja."
   ]
  },
  {
   "cell_type": "code",
   "execution_count": 30,
   "id": "d61ebf38",
   "metadata": {},
   "outputs": [
    {
     "data": {
      "text/plain": [
       "<AxesSubplot: >"
      ]
     },
     "execution_count": 30,
     "metadata": {},
     "output_type": "execute_result"
    },
    {
     "data": {
      "image/png": "[encoded data removed]",
      "text/plain": [
       "<Figure size 640x480 with 1 Axes>"
      ]
     },
     "metadata": {},
     "output_type": "display_data"
    }
   ],
   "source": [
    "sns.boxplot(df1.newage)"
   ]
  },
  {
   "cell_type": "markdown",
   "id": "b569fb95",
   "metadata": {},
   "source": [
    "En el gráfico se observa que hay varios outliers fuera de los límites de la caja, por lo que utilizar la media como valor para sustituir los nulos no es buena idea. Vamos a realizar un gráfico de distribución para ver cómo se distribuyen las edades."
   ]
  },
  {
   "cell_type": "code",
   "execution_count": 31,
   "id": "550d3c48",
   "metadata": {},
   "outputs": [
    {
     "data": {
      "text/plain": [
       "<AxesSubplot: xlabel='newage', ylabel='Density'>"
      ]
     },
     "execution_count": 31,
     "metadata": {},
     "output_type": "execute_result"
    },
    {
     "data": {
      "image/png": "[encoded data removed]",
      "text/plain": [
       "<Figure size 640x480 with 1 Axes>"
      ]
     },
     "metadata": {},
     "output_type": "display_data"
    }
   ],
   "source": [
    "sns.distplot(df1.newage)"
   ]
  },
  {
   "cell_type": "markdown",
   "id": "9ba4632b",
   "metadata": {},
   "source": [
    "Se observa que la población de edades está sesgada y no sigue la distribución normal, confirmando que emplear la media no es una buena opción. Extraemos la mediana y la moda de los valores."
   ]
  },
  {
   "cell_type": "code",
   "execution_count": 32,
   "id": "6ad6138a",
   "metadata": {},
   "outputs": [
    {
     "name": "stdout",
     "output_type": "stream",
     "text": [
      "La moda es:  0    17\n",
      "Name: newage, dtype: object\n",
      "La mediana es:  24.0\n"
     ]
    }
   ],
   "source": [
    "print(\"La moda es: \",df1.newage.mode())\n",
    "print(\"La mediana es: \", df1.newage.median())"
   ]
  },
  {
   "cell_type": "markdown",
   "id": "30cd7d9f",
   "metadata": {},
   "source": [
    "Dado que la mayor parte de la población se encuentra entre los 17-24 años, lo óptimo sería escoger la mediana ya que se acerca más a las edades superiores y normalizaría ligeramente la distribución. Pero dado que los valores nulos suponen casi la mitad de los valores de la lista, es preferible dejarlos como 'not declared' para no tenerlos en cuenta."
   ]
  },
  {
   "cell_type": "code",
   "execution_count": 33,
   "id": "ffd49b2e",
   "metadata": {},
   "outputs": [
    {
     "data": {
      "text/plain": [
       "NaN    2871\n",
       "17      156\n",
       "18      153\n",
       "20      150\n",
       "19      142\n",
       "       ... \n",
       "87        1\n",
       "67        1\n",
       "72        1\n",
       "81        1\n",
       "86        1\n",
       "Name: newage, Length: 82, dtype: int64"
      ]
     },
     "execution_count": 33,
     "metadata": {},
     "output_type": "execute_result"
    }
   ],
   "source": [
    "df1.newage.value_counts(dropna=False)"
   ]
  },
  {
   "cell_type": "code",
   "execution_count": 34,
   "id": "9b69b38b",
   "metadata": {},
   "outputs": [],
   "source": [
    "df1.newage.fillna('not declared', inplace=True)"
   ]
  },
  {
   "cell_type": "markdown",
   "id": "57cebe4b",
   "metadata": {},
   "source": [
    "Por último, rellenaríamos también la columna de 'age' igual que 'newage' para no tener ningún tipo de dato nulo."
   ]
  },
  {
   "cell_type": "code",
   "execution_count": 35,
   "id": "b105c643",
   "metadata": {},
   "outputs": [],
   "source": [
    "df1.age.fillna('not declared', inplace=True)"
   ]
  },
  {
   "cell_type": "markdown",
   "id": "41120e95",
   "metadata": {},
   "source": [
    "Comprobamos que no existen nulos en el DataFrame"
   ]
  },
  {
   "cell_type": "code",
   "execution_count": 36,
   "id": "001fed2f",
   "metadata": {},
   "outputs": [
    {
     "data": {
      "text/plain": [
       "False"
      ]
     },
     "execution_count": 36,
     "metadata": {},
     "output_type": "execute_result"
    }
   ],
   "source": [
    "df1.isnull().values.any()"
   ]
  },
  {
   "cell_type": "code",
   "execution_count": 37,
   "id": "1592a122",
   "metadata": {},
   "outputs": [
    {
     "data": {
      "text/plain": [
       "(6302, 23)"
      ]
     },
     "execution_count": 37,
     "metadata": {},
     "output_type": "execute_result"
    }
   ],
   "source": [
    "df1.shape"
   ]
  },
  {
   "cell_type": "markdown",
   "id": "ec462e95",
   "metadata": {},
   "source": [
    "# 4) Valores atípicos, incongruentes y/o mal reportados"
   ]
  },
  {
   "cell_type": "markdown",
   "id": "4e5e6e04",
   "metadata": {},
   "source": [
    "Hay valores que están mal escritos, detallados o que no pueden tenerse en cuenta al no estar incluídos como deberían. Vamos a arreglarlos.\n",
    "\n",
    "Por ejemplo, en la columna de 'sex' hay 6 valores que no encajan con las dos posibilidades (M/F). Vamos a asumir que 'M ' y 'N' se refieren a 'M, y descartar 'lli' y '.' como valores"
   ]
  },
  {
   "cell_type": "code",
   "execution_count": 38,
   "id": "0963a1b6",
   "metadata": {},
   "outputs": [
    {
     "data": {
      "text/plain": [
       "M               5094\n",
       "F                637\n",
       "not declared     565\n",
       "M                  2\n",
       "N                  2\n",
       "lli                1\n",
       ".                  1\n",
       "Name: sex, dtype: int64"
      ]
     },
     "execution_count": 38,
     "metadata": {},
     "output_type": "execute_result"
    }
   ],
   "source": [
    "df1.sex.value_counts()"
   ]
  },
  {
   "cell_type": "code",
   "execution_count": 39,
   "id": "8f6a39c7",
   "metadata": {},
   "outputs": [
    {
     "data": {
      "text/plain": [
       "M               5098\n",
       "F                637\n",
       "not declared     567\n",
       "Name: sex, dtype: int64"
      ]
     },
     "execution_count": 39,
     "metadata": {},
     "output_type": "execute_result"
    }
   ],
   "source": [
    "df1.sex.replace({'M ': 'M', 'N': 'M', 'lli': 'not declared', '.': 'not declared'}, inplace=True)\n",
    "\n",
    "df1.sex.value_counts()"
   ]
  },
  {
   "cell_type": "markdown",
   "id": "de7aa98e",
   "metadata": {},
   "source": [
    "Repetimos este proceso pero para los valores de Y/N de fatal. Se unifican los 'unknown' en minúscula, se devuelven los ' N', 'M' y 'N ' como 'N', y el 'y' como 'Y'. El dato numérico '2017' se cambia a 'unknown'"
   ]
  },
  {
   "cell_type": "code",
   "execution_count": 40,
   "id": "e23c5982",
   "metadata": {},
   "outputs": [
    {
     "data": {
      "text/plain": [
       "N          4293\n",
       "Y          1388\n",
       "unknown     539\n",
       "UNKNOWN      71\n",
       " N            7\n",
       "M             1\n",
       "2017          1\n",
       "N             1\n",
       "y             1\n",
       "Name: fatal, dtype: int64"
      ]
     },
     "execution_count": 40,
     "metadata": {},
     "output_type": "execute_result"
    }
   ],
   "source": [
    "df1.fatal.value_counts()"
   ]
  },
  {
   "cell_type": "code",
   "execution_count": 41,
   "id": "47e2e5b8",
   "metadata": {},
   "outputs": [
    {
     "data": {
      "text/plain": [
       "N          4302\n",
       "Y          1389\n",
       "unknown     611\n",
       "Name: fatal, dtype: int64"
      ]
     },
     "execution_count": 41,
     "metadata": {},
     "output_type": "execute_result"
    }
   ],
   "source": [
    "df1.fatal.replace({' N': 'N', 'N ': 'N', 'M ': 'N', 'y': 'Y', 'UNKNOWN': 'unknown', '2017': 'unknown', 'M': 'N'}, inplace=True)\n",
    "\n",
    "df1.fatal.value_counts()"
   ]
  },
  {
   "cell_type": "code",
   "execution_count": 42,
   "id": "983339ca",
   "metadata": {},
   "outputs": [
    {
     "data": {
      "text/plain": [
       "(6302, 23)"
      ]
     },
     "execution_count": 42,
     "metadata": {},
     "output_type": "execute_result"
    }
   ],
   "source": [
    "df1.shape"
   ]
  },
  {
   "cell_type": "markdown",
   "id": "02a3790f",
   "metadata": {},
   "source": [
    "# 5) Establecer nuevas variables"
   ]
  },
  {
   "cell_type": "markdown",
   "id": "43814677",
   "metadata": {},
   "source": [
    "En base a la fecha aportada por la columna date, se extraerán las columnas de mes y año ya que pueden aportar información adicional. A pesar de que la columna año ya está registrada, se va a trabajar desde la columna date para tener la columna trabajada y así evitar dudas o errores. De esta manera se podrán estudiar estas variables independientemente, siempre que estén registradas como tal en la columna date."
   ]
  },
  {
   "cell_type": "code",
   "execution_count": 43,
   "id": "a410fe62",
   "metadata": {},
   "outputs": [
    {
     "name": "stdout",
     "output_type": "stream",
     "text": [
      "6302\n",
      "6328\n"
     ]
    }
   ],
   "source": [
    "\n",
    "def split_year(year):\n",
    "    try:\n",
    "        return re.findall('(\\d{4})', year)\n",
    "    except:\n",
    "        return [np.nan]\n",
    "\n",
    "listayear = df1['date'].apply(split_year)\n",
    "\n",
    "listayear = listayear.to_list()\n",
    "\n",
    "print(len(listayear))\n",
    "\n",
    "lista = []\n",
    "\n",
    "for i in listayear:\n",
    "    for j in i:\n",
    "        lista.append(i)\n",
    "\n",
    " \n",
    "        \n",
    "print(len(lista))\n",
    "\n",
    "\n"
   ]
  },
  {
   "cell_type": "markdown",
   "id": "c7eafc48",
   "metadata": {},
   "source": [
    "Al intentar extraer los años de las fechas del DataFrame, se obtienen 26 valores más de los debidos, siendo indicador de que varias casillas contienen más de un año en ellas. Esto se investiga y se comprueba que hay muchos años que no están especificados, incluyendo varias posibilidades para el mismo caso. Por lo tanto, se considerarán como desconocidos para poder trabajar la tabla."
   ]
  },
  {
   "cell_type": "code",
   "execution_count": 44,
   "id": "4397422e",
   "metadata": {},
   "outputs": [
    {
     "name": "stdout",
     "output_type": "stream",
     "text": [
      "6302\n",
      "6259\n",
      "43\n",
      "[['1985', '1986'], ['1960', '1961'], ['1958', '1959'], ['1954', '1954'], ['1954', '1954'], ['1952', '1954'], ['1951', '1951'], ['1950', '1951'], ['1949', '1949'], ['1949', '1950'], ['1943', '1943'], ['1942', '1942'], ['1928', '1928'], ['1925', '1925'], ['1923', '1924'], ['1909', '1909'], ['1898', '1899'], ['1883', '1843', '1844'], ['1888', '1868'], ['1853', '1854'], ['1850', '1852'], ['1839', '1840'], ['1600', '1728'], ['1990', '1991'], ['1880', '1899'], ['1951', '1963'], ['1896', '1913'], ['1926', '1936'], ['1941', '1945'], ['1943', '1945'], ['1941', '1945', '1945'], ['1941', '1945'], ['1941', '1945'], ['1941', '1942'], ['1940', '1950'], ['1940', '1950'], ['1940', '1950'], ['1940', '1946'], ['1918', '1939'], ['1920', '1923'], ['1900', '1905'], ['1883', '1889'], ['1845', '1853']]\n"
     ]
    }
   ],
   "source": [
    "listayear = df1['date'].apply(split_year)\n",
    "\n",
    "listayear = listayear.to_list()\n",
    "\n",
    "print(len(listayear))\n",
    "\n",
    "lista = []\n",
    "listadupl = []\n",
    "\n",
    "for i in listayear:\n",
    "    if len(i) == 1:\n",
    "        lista.append(i)\n",
    "    elif len(i) == 0:\n",
    "        lista.append(i)        \n",
    "    else:\n",
    "        listadupl.append(i)\n",
    " \n",
    "        \n",
    "print(len(lista))\n",
    "print(len(listadupl))\n",
    "\n",
    "print(listadupl)"
   ]
  },
  {
   "cell_type": "markdown",
   "id": "48e63937",
   "metadata": {},
   "source": [
    "Se resuelve comprobando la longitud de los valores, agregando los valores únicos o sin valor. El resto serán valores desconocidos (unknown)"
   ]
  },
  {
   "cell_type": "code",
   "execution_count": 45,
   "id": "c256cce4",
   "metadata": {},
   "outputs": [],
   "source": [
    "listayear = df1['date'].apply(split_year)\n",
    "\n",
    "listayear = listayear.to_list()\n",
    "\n",
    "lista2=[]\n",
    "\n",
    "for i in listayear:\n",
    "    if len(i) == 1:\n",
    "        for j in i:\n",
    "            lista2.append(j)\n",
    "    elif len(i) == 0:     \n",
    "        lista2.append('unknown')        \n",
    "    else:\n",
    "        lista2.append('unknown')\n",
    "\n",
    "\n",
    "df1['yeardate'] = lista2\n"
   ]
  },
  {
   "cell_type": "markdown",
   "id": "3241e1c9",
   "metadata": {},
   "source": [
    "Ahora que tenemos una columna con los años extraídos de las fechas aportadas, podemos establecer criterios más rígidos para los años ya que algunos datos indicaban fechas sin concretar o rangos de años que no podían utilizarse a nivel estadístico."
   ]
  },
  {
   "cell_type": "code",
   "execution_count": 46,
   "id": "f5939897",
   "metadata": {},
   "outputs": [
    {
     "data": {
      "text/plain": [
       "0    2018\n",
       "1    2018\n",
       "2    2018\n",
       "3    2018\n",
       "4    2018\n",
       "5    2018\n",
       "6    2018\n",
       "7    2018\n",
       "8    2018\n",
       "9    2018\n",
       "Name: yeardate, dtype: object"
      ]
     },
     "execution_count": 46,
     "metadata": {},
     "output_type": "execute_result"
    }
   ],
   "source": [
    "df1.yeardate.head(10)"
   ]
  },
  {
   "cell_type": "markdown",
   "id": "c1753a2a",
   "metadata": {},
   "source": [
    "Se repite el proceso para obtener los meses de cada fecha para utilizarlos a nivel estadístico en una nueva columna. Una vez hemos creado la nueva columna, observamos los valores que hay y los transcribimos. -Ame se tomará como unknown."
   ]
  },
  {
   "cell_type": "code",
   "execution_count": 47,
   "id": "564be3cf",
   "metadata": {},
   "outputs": [
    {
     "data": {
      "text/plain": [
       "unknown    893\n",
       "-Jul       625\n",
       "-Aug       555\n",
       "-Sep       522\n",
       "-Jan       495\n",
       "-Jun       475\n",
       "-Apr       422\n",
       "-Dec       417\n",
       "-Oct       417\n",
       "-Mar       380\n",
       "-Nov       378\n",
       "-May       365\n",
       "-Feb       357\n",
       "-Ame         1\n",
       "Name: monthdate, dtype: int64"
      ]
     },
     "execution_count": 47,
     "metadata": {},
     "output_type": "execute_result"
    }
   ],
   "source": [
    "\n",
    "def split_month(month):\n",
    "    try:\n",
    "        return re.findall('(-[A-Z][a-z][a-z])', month)\n",
    "    except:\n",
    "        return [np.nan]\n",
    "\n",
    "listames = df1['date'].apply(split_month)\n",
    "\n",
    "listames = listames.to_list()\n",
    "\n",
    "listames2=[]\n",
    "\n",
    "for i in listames:\n",
    "    if len(i) == 1:\n",
    "        for j in i:\n",
    "            listames2.append(j)\n",
    "    elif len(i) == 0:     \n",
    "        listames2.append('unknown')        \n",
    "    else:\n",
    "        listames2.append('unknown')\n",
    "            \n",
    "df1['monthdate']= listames2\n",
    "\n",
    "df1.monthdate.value_counts()\n"
   ]
  },
  {
   "cell_type": "code",
   "execution_count": 48,
   "id": "1dc09fcd",
   "metadata": {},
   "outputs": [
    {
     "data": {
      "text/plain": [
       "unknown      894\n",
       "July         625\n",
       "August       555\n",
       "September    522\n",
       "January      495\n",
       "June         475\n",
       "April        422\n",
       "December     417\n",
       "October      417\n",
       "March        380\n",
       "November     378\n",
       "May          365\n",
       "February     357\n",
       "Name: monthdate, dtype: int64"
      ]
     },
     "execution_count": 48,
     "metadata": {},
     "output_type": "execute_result"
    }
   ],
   "source": [
    "df1.monthdate.replace({'-Jul': 'July', '-Aug': 'August', '-Sep': 'September', '-Jan': 'January', '-Jun': 'June', '-Apr': 'April', '-Dec': 'December', '-Oct': 'October', '-Mar': 'March', '-Nov': 'November', '-May': 'May', '-Feb': 'February', '-Ame': 'unknown'}, inplace=True)\n",
    "\n",
    "df1.monthdate.value_counts()"
   ]
  },
  {
   "cell_type": "code",
   "execution_count": 49,
   "id": "4e157fa7",
   "metadata": {},
   "outputs": [
    {
     "data": {
      "text/plain": [
       "(6302, 25)"
      ]
     },
     "execution_count": 49,
     "metadata": {},
     "output_type": "execute_result"
    }
   ],
   "source": [
    "df1.shape"
   ]
  },
  {
   "cell_type": "markdown",
   "id": "5955d897",
   "metadata": {},
   "source": [
    "# DATAFRAME FINAL"
   ]
  },
  {
   "cell_type": "markdown",
   "id": "32bd8312",
   "metadata": {},
   "source": [
    "Ahora que hemos hecho la limpieza de datos, vamos a quedarnos con las columnas importantes para establecer objetivos estadísticos y poder dar resultados acerca de la información del dataframe."
   ]
  },
  {
   "cell_type": "code",
   "execution_count": 50,
   "id": "ed34e8ae",
   "metadata": {},
   "outputs": [],
   "source": [
    "dff=df1.copy()"
   ]
  },
  {
   "cell_type": "code",
   "execution_count": 51,
   "id": "316927ed",
   "metadata": {},
   "outputs": [
    {
     "data": {
      "text/plain": [
       "Index(['case_number', 'date', 'year', 'type', 'country', 'area', 'location',\n",
       "       'activity', 'name', 'sex', 'age', 'injury', 'fatal', 'time', 'species',\n",
       "       'investigator_or_source', 'pdf', 'href_formula', 'href',\n",
       "       'case_number.1', 'case_number.2', 'original_order', 'newage',\n",
       "       'yeardate', 'monthdate'],\n",
       "      dtype='object')"
      ]
     },
     "execution_count": 51,
     "metadata": {},
     "output_type": "execute_result"
    }
   ],
   "source": [
    "dff.columns"
   ]
  },
  {
   "cell_type": "code",
   "execution_count": 52,
   "id": "a1c08ff9",
   "metadata": {},
   "outputs": [],
   "source": [
    "dff.drop(['case_number','date','year','location','name','age','investigator_or_source','pdf','href_formula','href','case_number.1','case_number.2','original_order'], axis=1, inplace=True)\n"
   ]
  },
  {
   "cell_type": "code",
   "execution_count": 53,
   "id": "cd620cdd",
   "metadata": {},
   "outputs": [
    {
     "data": {
      "text/html": [
       "<div>\n",
       "<style scoped>\n",
       "    .dataframe tbody tr th:only-of-type {\n",
       "        vertical-align: middle;\n",
       "    }\n",
       "\n",
       "    .dataframe tbody tr th {\n",
       "        vertical-align: top;\n",
       "    }\n",
       "\n",
       "    .dataframe thead th {\n",
       "        text-align: right;\n",
       "    }\n",
       "</style>\n",
       "<table border=\"1\" class=\"dataframe\">\n",
       "  <thead>\n",
       "    <tr style=\"text-align: right;\">\n",
       "      <th></th>\n",
       "      <th>attack_type</th>\n",
       "      <th>country</th>\n",
       "      <th>area</th>\n",
       "      <th>activity</th>\n",
       "      <th>sex</th>\n",
       "      <th>injury</th>\n",
       "      <th>fatal</th>\n",
       "      <th>time</th>\n",
       "      <th>species</th>\n",
       "      <th>age</th>\n",
       "      <th>year</th>\n",
       "      <th>month</th>\n",
       "    </tr>\n",
       "  </thead>\n",
       "  <tbody>\n",
       "    <tr>\n",
       "      <th>0</th>\n",
       "      <td>Boating</td>\n",
       "      <td>USA</td>\n",
       "      <td>California</td>\n",
       "      <td>Paddling</td>\n",
       "      <td>F</td>\n",
       "      <td>No injury to occupant, outrigger canoe and pad...</td>\n",
       "      <td>N</td>\n",
       "      <td>18h00</td>\n",
       "      <td>White shark</td>\n",
       "      <td>57</td>\n",
       "      <td>2018</td>\n",
       "      <td>June</td>\n",
       "    </tr>\n",
       "    <tr>\n",
       "      <th>1</th>\n",
       "      <td>Unprovoked</td>\n",
       "      <td>USA</td>\n",
       "      <td>Georgia</td>\n",
       "      <td>Standing</td>\n",
       "      <td>F</td>\n",
       "      <td>Minor injury to left thigh</td>\n",
       "      <td>N</td>\n",
       "      <td>14h00  -15h00</td>\n",
       "      <td>unknown</td>\n",
       "      <td>11</td>\n",
       "      <td>2018</td>\n",
       "      <td>June</td>\n",
       "    </tr>\n",
       "    <tr>\n",
       "      <th>2</th>\n",
       "      <td>Invalid</td>\n",
       "      <td>USA</td>\n",
       "      <td>Hawaii</td>\n",
       "      <td>Surfing</td>\n",
       "      <td>M</td>\n",
       "      <td>Injury to left lower leg from surfboard skeg</td>\n",
       "      <td>N</td>\n",
       "      <td>07h45</td>\n",
       "      <td>unknown</td>\n",
       "      <td>48</td>\n",
       "      <td>2018</td>\n",
       "      <td>June</td>\n",
       "    </tr>\n",
       "    <tr>\n",
       "      <th>3</th>\n",
       "      <td>Unprovoked</td>\n",
       "      <td>AUSTRALIA</td>\n",
       "      <td>New South Wales</td>\n",
       "      <td>Surfing</td>\n",
       "      <td>M</td>\n",
       "      <td>Minor injury to lower leg</td>\n",
       "      <td>N</td>\n",
       "      <td>unknown</td>\n",
       "      <td>2 m shark</td>\n",
       "      <td>not declared</td>\n",
       "      <td>2018</td>\n",
       "      <td>June</td>\n",
       "    </tr>\n",
       "    <tr>\n",
       "      <th>4</th>\n",
       "      <td>Provoked</td>\n",
       "      <td>MEXICO</td>\n",
       "      <td>Colima</td>\n",
       "      <td>Free diving</td>\n",
       "      <td>M</td>\n",
       "      <td>Lacerations to leg &amp; hand shark PROVOKED INCIDENT</td>\n",
       "      <td>N</td>\n",
       "      <td>unknown</td>\n",
       "      <td>Tiger shark, 3m</td>\n",
       "      <td>not declared</td>\n",
       "      <td>2018</td>\n",
       "      <td>June</td>\n",
       "    </tr>\n",
       "    <tr>\n",
       "      <th>...</th>\n",
       "      <td>...</td>\n",
       "      <td>...</td>\n",
       "      <td>...</td>\n",
       "      <td>...</td>\n",
       "      <td>...</td>\n",
       "      <td>...</td>\n",
       "      <td>...</td>\n",
       "      <td>...</td>\n",
       "      <td>...</td>\n",
       "      <td>...</td>\n",
       "      <td>...</td>\n",
       "      <td>...</td>\n",
       "    </tr>\n",
       "    <tr>\n",
       "      <th>6297</th>\n",
       "      <td>Unprovoked</td>\n",
       "      <td>AUSTRALIA</td>\n",
       "      <td>Western Australia</td>\n",
       "      <td>Diving</td>\n",
       "      <td>M</td>\n",
       "      <td>FATAL</td>\n",
       "      <td>Y</td>\n",
       "      <td>unknown</td>\n",
       "      <td>unknown</td>\n",
       "      <td>not declared</td>\n",
       "      <td>1903</td>\n",
       "      <td>unknown</td>\n",
       "    </tr>\n",
       "    <tr>\n",
       "      <th>6298</th>\n",
       "      <td>Unprovoked</td>\n",
       "      <td>AUSTRALIA</td>\n",
       "      <td>Western Australia</td>\n",
       "      <td>Pearl diving</td>\n",
       "      <td>M</td>\n",
       "      <td>FATAL</td>\n",
       "      <td>Y</td>\n",
       "      <td>unknown</td>\n",
       "      <td>unknown</td>\n",
       "      <td>not declared</td>\n",
       "      <td>1903</td>\n",
       "      <td>unknown</td>\n",
       "    </tr>\n",
       "    <tr>\n",
       "      <th>6299</th>\n",
       "      <td>Unprovoked</td>\n",
       "      <td>USA</td>\n",
       "      <td>North Carolina</td>\n",
       "      <td>Swimming</td>\n",
       "      <td>M</td>\n",
       "      <td>FATAL</td>\n",
       "      <td>Y</td>\n",
       "      <td>unknown</td>\n",
       "      <td>unknown</td>\n",
       "      <td>not declared</td>\n",
       "      <td>unknown</td>\n",
       "      <td>unknown</td>\n",
       "    </tr>\n",
       "    <tr>\n",
       "      <th>6300</th>\n",
       "      <td>Unprovoked</td>\n",
       "      <td>PANAMA</td>\n",
       "      <td>unknown</td>\n",
       "      <td>unknown</td>\n",
       "      <td>M</td>\n",
       "      <td>FATAL</td>\n",
       "      <td>Y</td>\n",
       "      <td>unknown</td>\n",
       "      <td>unknown</td>\n",
       "      <td>not declared</td>\n",
       "      <td>unknown</td>\n",
       "      <td>unknown</td>\n",
       "    </tr>\n",
       "    <tr>\n",
       "      <th>6301</th>\n",
       "      <td>Unprovoked</td>\n",
       "      <td>CEYLON (SRI LANKA)</td>\n",
       "      <td>Eastern Province</td>\n",
       "      <td>Swimming</td>\n",
       "      <td>M</td>\n",
       "      <td>FATAL. \"Shark bit him in half, carrying away t...</td>\n",
       "      <td>Y</td>\n",
       "      <td>unknown</td>\n",
       "      <td>unknown</td>\n",
       "      <td>15</td>\n",
       "      <td>unknown</td>\n",
       "      <td>unknown</td>\n",
       "    </tr>\n",
       "  </tbody>\n",
       "</table>\n",
       "<p>6302 rows × 12 columns</p>\n",
       "</div>"
      ],
      "text/plain": [
       "     attack_type             country               area      activity sex  \\\n",
       "0        Boating                 USA         California      Paddling   F   \n",
       "1     Unprovoked                 USA            Georgia      Standing   F   \n",
       "2        Invalid                 USA             Hawaii       Surfing   M   \n",
       "3     Unprovoked           AUSTRALIA    New South Wales       Surfing   M   \n",
       "4       Provoked              MEXICO             Colima   Free diving   M   \n",
       "...          ...                 ...                ...           ...  ..   \n",
       "6297  Unprovoked           AUSTRALIA  Western Australia        Diving   M   \n",
       "6298  Unprovoked           AUSTRALIA  Western Australia  Pearl diving   M   \n",
       "6299  Unprovoked                 USA     North Carolina      Swimming   M   \n",
       "6300  Unprovoked              PANAMA            unknown       unknown   M   \n",
       "6301  Unprovoked  CEYLON (SRI LANKA)   Eastern Province      Swimming   M   \n",
       "\n",
       "                                                 injury fatal           time  \\\n",
       "0     No injury to occupant, outrigger canoe and pad...     N          18h00   \n",
       "1                            Minor injury to left thigh     N  14h00  -15h00   \n",
       "2          Injury to left lower leg from surfboard skeg     N          07h45   \n",
       "3                             Minor injury to lower leg     N        unknown   \n",
       "4     Lacerations to leg & hand shark PROVOKED INCIDENT     N        unknown   \n",
       "...                                                 ...   ...            ...   \n",
       "6297                                              FATAL     Y        unknown   \n",
       "6298                                              FATAL     Y        unknown   \n",
       "6299                                              FATAL     Y        unknown   \n",
       "6300                                              FATAL     Y        unknown   \n",
       "6301  FATAL. \"Shark bit him in half, carrying away t...     Y        unknown   \n",
       "\n",
       "              species           age     year    month  \n",
       "0         White shark            57     2018     June  \n",
       "1             unknown            11     2018     June  \n",
       "2             unknown            48     2018     June  \n",
       "3           2 m shark  not declared     2018     June  \n",
       "4     Tiger shark, 3m  not declared     2018     June  \n",
       "...               ...           ...      ...      ...  \n",
       "6297          unknown  not declared     1903  unknown  \n",
       "6298          unknown  not declared     1903  unknown  \n",
       "6299          unknown  not declared  unknown  unknown  \n",
       "6300          unknown  not declared  unknown  unknown  \n",
       "6301          unknown            15  unknown  unknown  \n",
       "\n",
       "[6302 rows x 12 columns]"
      ]
     },
     "execution_count": 53,
     "metadata": {},
     "output_type": "execute_result"
    }
   ],
   "source": [
    "dff.rename(columns={'type': 'attack_type','newage': 'age', 'yeardate': 'year', 'monthdate': 'month'}, inplace=True)\n",
    "\n",
    "dff"
   ]
  },
  {
   "cell_type": "code",
   "execution_count": 54,
   "id": "b6f27122",
   "metadata": {},
   "outputs": [],
   "source": [
    "dff.to_csv('../data/Sharksclean.csv', index=False)"
   ]
  }
 ],
 "metadata": {
  "kernelspec": {
   "display_name": "Clase",
   "language": "python",
   "name": "clase"
  },
  "language_info": {
   "codemirror_mode": {
    "name": "ipython",
    "version": 3
   },
   "file_extension": ".py",
   "mimetype": "text/x-python",
   "name": "python",
   "nbconvert_exporter": "python",
   "pygments_lexer": "ipython3",
   "version": "3.8.13"
  }
 },
 "nbformat": 4,
 "nbformat_minor": 5
}
