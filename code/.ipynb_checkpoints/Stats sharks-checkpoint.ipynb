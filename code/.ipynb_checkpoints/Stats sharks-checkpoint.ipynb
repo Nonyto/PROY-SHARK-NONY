{
 "cells": [
  {
   "cell_type": "markdown",
   "id": "d7ee9e54",
   "metadata": {},
   "source": [
    "# Estadísticas para sharks"
   ]
  },
  {
   "cell_type": "markdown",
   "id": "17816ca4",
   "metadata": {},
   "source": [
    "Una vez que la lista se ha limpiado y estructurado con los datos relevantes para nuestros objetivos, se cargan las librerías necesarias para trabajar con el dataframe. Se carga y se crea una copia para poder trabajar con ello."
   ]
  },
  {
   "cell_type": "code",
   "execution_count": null,
   "id": "a89fa3d6",
   "metadata": {},
   "outputs": [],
   "source": [
    "%pip install seaborn\n",
    "\n",
    "%matplotlib inline\n",
    "\n",
    "%pip install requests \n",
    "\n",
    "%pip install openpyxl\n",
    "\n",
    "%pip install xlrd\n",
    "\n",
    "%pip install regex"
   ]
  },
  {
   "cell_type": "code",
   "execution_count": 2,
   "id": "2b43eaf5",
   "metadata": {},
   "outputs": [],
   "source": [
    "import pandas as pd\n",
    "pd.set_option('display.max_columns', None)\n",
    "\n",
    "import numpy as np\n",
    "\n",
    "import warnings\n",
    "warnings.filterwarnings('ignore')\n",
    "\n",
    "import regex as re\n",
    "\n",
    "import pylab as plt\n",
    "import seaborn as sns"
   ]
  },
  {
   "cell_type": "code",
   "execution_count": 3,
   "id": "9804c15d",
   "metadata": {},
   "outputs": [],
   "source": [
    "df = pd.read_csv('../data/sharksclean.csv')"
   ]
  },
  {
   "cell_type": "code",
   "execution_count": 5,
   "id": "9a2d433d",
   "metadata": {},
   "outputs": [],
   "source": [
    "df1= df.copy()"
   ]
  },
  {
   "cell_type": "code",
   "execution_count": 6,
   "id": "085aa474",
   "metadata": {},
   "outputs": [
    {
     "data": {
      "text/html": [
       "<div>\n",
       "<style scoped>\n",
       "    .dataframe tbody tr th:only-of-type {\n",
       "        vertical-align: middle;\n",
       "    }\n",
       "\n",
       "    .dataframe tbody tr th {\n",
       "        vertical-align: top;\n",
       "    }\n",
       "\n",
       "    .dataframe thead th {\n",
       "        text-align: right;\n",
       "    }\n",
       "</style>\n",
       "<table border=\"1\" class=\"dataframe\">\n",
       "  <thead>\n",
       "    <tr style=\"text-align: right;\">\n",
       "      <th></th>\n",
       "      <th>attack_type</th>\n",
       "      <th>country</th>\n",
       "      <th>area</th>\n",
       "      <th>activity</th>\n",
       "      <th>sex</th>\n",
       "      <th>injury</th>\n",
       "      <th>fatal</th>\n",
       "      <th>time</th>\n",
       "      <th>species</th>\n",
       "      <th>age</th>\n",
       "      <th>year</th>\n",
       "      <th>month</th>\n",
       "    </tr>\n",
       "  </thead>\n",
       "  <tbody>\n",
       "    <tr>\n",
       "      <th>0</th>\n",
       "      <td>Boating</td>\n",
       "      <td>USA</td>\n",
       "      <td>California</td>\n",
       "      <td>Paddling</td>\n",
       "      <td>F</td>\n",
       "      <td>No injury to occupant, outrigger canoe and pad...</td>\n",
       "      <td>N</td>\n",
       "      <td>18h00</td>\n",
       "      <td>White shark</td>\n",
       "      <td>57</td>\n",
       "      <td>2018</td>\n",
       "      <td>June</td>\n",
       "    </tr>\n",
       "    <tr>\n",
       "      <th>1</th>\n",
       "      <td>Unprovoked</td>\n",
       "      <td>USA</td>\n",
       "      <td>Georgia</td>\n",
       "      <td>Standing</td>\n",
       "      <td>F</td>\n",
       "      <td>Minor injury to left thigh</td>\n",
       "      <td>N</td>\n",
       "      <td>14h00  -15h00</td>\n",
       "      <td>unknown</td>\n",
       "      <td>11</td>\n",
       "      <td>2018</td>\n",
       "      <td>June</td>\n",
       "    </tr>\n",
       "    <tr>\n",
       "      <th>2</th>\n",
       "      <td>Invalid</td>\n",
       "      <td>USA</td>\n",
       "      <td>Hawaii</td>\n",
       "      <td>Surfing</td>\n",
       "      <td>M</td>\n",
       "      <td>Injury to left lower leg from surfboard skeg</td>\n",
       "      <td>N</td>\n",
       "      <td>07h45</td>\n",
       "      <td>unknown</td>\n",
       "      <td>48</td>\n",
       "      <td>2018</td>\n",
       "      <td>June</td>\n",
       "    </tr>\n",
       "    <tr>\n",
       "      <th>3</th>\n",
       "      <td>Unprovoked</td>\n",
       "      <td>AUSTRALIA</td>\n",
       "      <td>New South Wales</td>\n",
       "      <td>Surfing</td>\n",
       "      <td>M</td>\n",
       "      <td>Minor injury to lower leg</td>\n",
       "      <td>N</td>\n",
       "      <td>unknown</td>\n",
       "      <td>2 m shark</td>\n",
       "      <td>not declared</td>\n",
       "      <td>2018</td>\n",
       "      <td>June</td>\n",
       "    </tr>\n",
       "    <tr>\n",
       "      <th>4</th>\n",
       "      <td>Provoked</td>\n",
       "      <td>MEXICO</td>\n",
       "      <td>Colima</td>\n",
       "      <td>Free diving</td>\n",
       "      <td>M</td>\n",
       "      <td>Lacerations to leg &amp; hand shark PROVOKED INCIDENT</td>\n",
       "      <td>N</td>\n",
       "      <td>unknown</td>\n",
       "      <td>Tiger shark, 3m</td>\n",
       "      <td>not declared</td>\n",
       "      <td>2018</td>\n",
       "      <td>June</td>\n",
       "    </tr>\n",
       "    <tr>\n",
       "      <th>...</th>\n",
       "      <td>...</td>\n",
       "      <td>...</td>\n",
       "      <td>...</td>\n",
       "      <td>...</td>\n",
       "      <td>...</td>\n",
       "      <td>...</td>\n",
       "      <td>...</td>\n",
       "      <td>...</td>\n",
       "      <td>...</td>\n",
       "      <td>...</td>\n",
       "      <td>...</td>\n",
       "      <td>...</td>\n",
       "    </tr>\n",
       "    <tr>\n",
       "      <th>6297</th>\n",
       "      <td>Unprovoked</td>\n",
       "      <td>AUSTRALIA</td>\n",
       "      <td>Western Australia</td>\n",
       "      <td>Diving</td>\n",
       "      <td>M</td>\n",
       "      <td>FATAL</td>\n",
       "      <td>Y</td>\n",
       "      <td>unknown</td>\n",
       "      <td>unknown</td>\n",
       "      <td>not declared</td>\n",
       "      <td>1903</td>\n",
       "      <td>unknown</td>\n",
       "    </tr>\n",
       "    <tr>\n",
       "      <th>6298</th>\n",
       "      <td>Unprovoked</td>\n",
       "      <td>AUSTRALIA</td>\n",
       "      <td>Western Australia</td>\n",
       "      <td>Pearl diving</td>\n",
       "      <td>M</td>\n",
       "      <td>FATAL</td>\n",
       "      <td>Y</td>\n",
       "      <td>unknown</td>\n",
       "      <td>unknown</td>\n",
       "      <td>not declared</td>\n",
       "      <td>1903</td>\n",
       "      <td>unknown</td>\n",
       "    </tr>\n",
       "    <tr>\n",
       "      <th>6299</th>\n",
       "      <td>Unprovoked</td>\n",
       "      <td>USA</td>\n",
       "      <td>North Carolina</td>\n",
       "      <td>Swimming</td>\n",
       "      <td>M</td>\n",
       "      <td>FATAL</td>\n",
       "      <td>Y</td>\n",
       "      <td>unknown</td>\n",
       "      <td>unknown</td>\n",
       "      <td>not declared</td>\n",
       "      <td>unknown</td>\n",
       "      <td>unknown</td>\n",
       "    </tr>\n",
       "    <tr>\n",
       "      <th>6300</th>\n",
       "      <td>Unprovoked</td>\n",
       "      <td>PANAMA</td>\n",
       "      <td>unknown</td>\n",
       "      <td>unknown</td>\n",
       "      <td>M</td>\n",
       "      <td>FATAL</td>\n",
       "      <td>Y</td>\n",
       "      <td>unknown</td>\n",
       "      <td>unknown</td>\n",
       "      <td>not declared</td>\n",
       "      <td>unknown</td>\n",
       "      <td>unknown</td>\n",
       "    </tr>\n",
       "    <tr>\n",
       "      <th>6301</th>\n",
       "      <td>Unprovoked</td>\n",
       "      <td>CEYLON (SRI LANKA)</td>\n",
       "      <td>Eastern Province</td>\n",
       "      <td>Swimming</td>\n",
       "      <td>M</td>\n",
       "      <td>FATAL. \"Shark bit him in half, carrying away t...</td>\n",
       "      <td>Y</td>\n",
       "      <td>unknown</td>\n",
       "      <td>unknown</td>\n",
       "      <td>15</td>\n",
       "      <td>unknown</td>\n",
       "      <td>unknown</td>\n",
       "    </tr>\n",
       "  </tbody>\n",
       "</table>\n",
       "<p>6302 rows × 12 columns</p>\n",
       "</div>"
      ],
      "text/plain": [
       "     attack_type             country               area      activity sex  \\\n",
       "0        Boating                 USA         California      Paddling   F   \n",
       "1     Unprovoked                 USA            Georgia      Standing   F   \n",
       "2        Invalid                 USA             Hawaii       Surfing   M   \n",
       "3     Unprovoked           AUSTRALIA    New South Wales       Surfing   M   \n",
       "4       Provoked              MEXICO             Colima   Free diving   M   \n",
       "...          ...                 ...                ...           ...  ..   \n",
       "6297  Unprovoked           AUSTRALIA  Western Australia        Diving   M   \n",
       "6298  Unprovoked           AUSTRALIA  Western Australia  Pearl diving   M   \n",
       "6299  Unprovoked                 USA     North Carolina      Swimming   M   \n",
       "6300  Unprovoked              PANAMA            unknown       unknown   M   \n",
       "6301  Unprovoked  CEYLON (SRI LANKA)   Eastern Province      Swimming   M   \n",
       "\n",
       "                                                 injury fatal           time  \\\n",
       "0     No injury to occupant, outrigger canoe and pad...     N          18h00   \n",
       "1                            Minor injury to left thigh     N  14h00  -15h00   \n",
       "2          Injury to left lower leg from surfboard skeg     N          07h45   \n",
       "3                             Minor injury to lower leg     N        unknown   \n",
       "4     Lacerations to leg & hand shark PROVOKED INCIDENT     N        unknown   \n",
       "...                                                 ...   ...            ...   \n",
       "6297                                              FATAL     Y        unknown   \n",
       "6298                                              FATAL     Y        unknown   \n",
       "6299                                              FATAL     Y        unknown   \n",
       "6300                                              FATAL     Y        unknown   \n",
       "6301  FATAL. \"Shark bit him in half, carrying away t...     Y        unknown   \n",
       "\n",
       "              species           age     year    month  \n",
       "0         White shark            57     2018     June  \n",
       "1             unknown            11     2018     June  \n",
       "2             unknown            48     2018     June  \n",
       "3           2 m shark  not declared     2018     June  \n",
       "4     Tiger shark, 3m  not declared     2018     June  \n",
       "...               ...           ...      ...      ...  \n",
       "6297          unknown  not declared     1903  unknown  \n",
       "6298          unknown  not declared     1903  unknown  \n",
       "6299          unknown  not declared  unknown  unknown  \n",
       "6300          unknown  not declared  unknown  unknown  \n",
       "6301          unknown            15  unknown  unknown  \n",
       "\n",
       "[6302 rows x 12 columns]"
      ]
     },
     "execution_count": 6,
     "metadata": {},
     "output_type": "execute_result"
    }
   ],
   "source": [
    "df1"
   ]
  },
  {
   "cell_type": "markdown",
   "id": "6ab474f1",
   "metadata": {},
   "source": [
    "Un vistazo rápido con el comando describe nos permitirá ver valores únicos, el más frecuente y la frecuencia. Pero hay otros parámetros como puede ser la media, mediana, moda, porcentajes relativos y absolutos... que pueden ser de utilidad y no aparecen en la tabla por lo que habrá que extraerlos de la misma y así poder determinarlos."
   ]
  },
  {
   "cell_type": "code",
   "execution_count": 8,
   "id": "01c10e6b",
   "metadata": {},
   "outputs": [
    {
     "data": {
      "text/html": [
       "<div>\n",
       "<style scoped>\n",
       "    .dataframe tbody tr th:only-of-type {\n",
       "        vertical-align: middle;\n",
       "    }\n",
       "\n",
       "    .dataframe tbody tr th {\n",
       "        vertical-align: top;\n",
       "    }\n",
       "\n",
       "    .dataframe thead th {\n",
       "        text-align: right;\n",
       "    }\n",
       "</style>\n",
       "<table border=\"1\" class=\"dataframe\">\n",
       "  <thead>\n",
       "    <tr style=\"text-align: right;\">\n",
       "      <th></th>\n",
       "      <th>count</th>\n",
       "      <th>unique</th>\n",
       "      <th>top</th>\n",
       "      <th>freq</th>\n",
       "    </tr>\n",
       "  </thead>\n",
       "  <tbody>\n",
       "    <tr>\n",
       "      <th>attack_type</th>\n",
       "      <td>6302</td>\n",
       "      <td>9</td>\n",
       "      <td>Unprovoked</td>\n",
       "      <td>4595</td>\n",
       "    </tr>\n",
       "    <tr>\n",
       "      <th>country</th>\n",
       "      <td>6302</td>\n",
       "      <td>213</td>\n",
       "      <td>USA</td>\n",
       "      <td>2229</td>\n",
       "    </tr>\n",
       "    <tr>\n",
       "      <th>area</th>\n",
       "      <td>6302</td>\n",
       "      <td>826</td>\n",
       "      <td>Florida</td>\n",
       "      <td>1037</td>\n",
       "    </tr>\n",
       "    <tr>\n",
       "      <th>activity</th>\n",
       "      <td>6302</td>\n",
       "      <td>1533</td>\n",
       "      <td>Surfing</td>\n",
       "      <td>971</td>\n",
       "    </tr>\n",
       "    <tr>\n",
       "      <th>sex</th>\n",
       "      <td>6302</td>\n",
       "      <td>3</td>\n",
       "      <td>M</td>\n",
       "      <td>5098</td>\n",
       "    </tr>\n",
       "    <tr>\n",
       "      <th>injury</th>\n",
       "      <td>6302</td>\n",
       "      <td>3737</td>\n",
       "      <td>FATAL</td>\n",
       "      <td>802</td>\n",
       "    </tr>\n",
       "    <tr>\n",
       "      <th>fatal</th>\n",
       "      <td>6302</td>\n",
       "      <td>3</td>\n",
       "      <td>N</td>\n",
       "      <td>4302</td>\n",
       "    </tr>\n",
       "    <tr>\n",
       "      <th>time</th>\n",
       "      <td>6302</td>\n",
       "      <td>367</td>\n",
       "      <td>unknown</td>\n",
       "      <td>3354</td>\n",
       "    </tr>\n",
       "    <tr>\n",
       "      <th>species</th>\n",
       "      <td>6302</td>\n",
       "      <td>1550</td>\n",
       "      <td>unknown</td>\n",
       "      <td>2838</td>\n",
       "    </tr>\n",
       "    <tr>\n",
       "      <th>age</th>\n",
       "      <td>6302</td>\n",
       "      <td>82</td>\n",
       "      <td>not declared</td>\n",
       "      <td>2871</td>\n",
       "    </tr>\n",
       "    <tr>\n",
       "      <th>year</th>\n",
       "      <td>6302</td>\n",
       "      <td>249</td>\n",
       "      <td>2015</td>\n",
       "      <td>143</td>\n",
       "    </tr>\n",
       "    <tr>\n",
       "      <th>month</th>\n",
       "      <td>6302</td>\n",
       "      <td>13</td>\n",
       "      <td>unknown</td>\n",
       "      <td>894</td>\n",
       "    </tr>\n",
       "  </tbody>\n",
       "</table>\n",
       "</div>"
      ],
      "text/plain": [
       "            count unique           top  freq\n",
       "attack_type  6302      9    Unprovoked  4595\n",
       "country      6302    213           USA  2229\n",
       "area         6302    826       Florida  1037\n",
       "activity     6302   1533       Surfing   971\n",
       "sex          6302      3             M  5098\n",
       "injury       6302   3737         FATAL   802\n",
       "fatal        6302      3             N  4302\n",
       "time         6302    367       unknown  3354\n",
       "species      6302   1550       unknown  2838\n",
       "age          6302     82  not declared  2871\n",
       "year         6302    249          2015   143\n",
       "month        6302     13       unknown   894"
      ]
     },
     "execution_count": 8,
     "metadata": {},
     "output_type": "execute_result"
    }
   ],
   "source": [
    "df1.describe().T"
   ]
  },
  {
   "cell_type": "markdown",
   "id": "b86634ae",
   "metadata": {},
   "source": [
    "# Variables de bajos valores únicos"
   ]
  },
  {
   "cell_type": "markdown",
   "id": "010661f4",
   "metadata": {},
   "source": [
    "Obtengamos en primer lugar valores únicos de interés, los cuales estan en baja proporción pero dan información suficiente como para asumir resultados. Estos son el tipo de ataque de tiburón (attack_type), el sexo de los afectados (sex), si los incidentes han sido fatales (fatal) y los meses de los ataques (month). El resto de variables poseen demasiados valores únicos como para estudiarlos uno a uno. Se calcularán en porcentaje, en base a todos los resultados obtenidos (6302)."
   ]
  },
  {
   "cell_type": "code",
   "execution_count": 21,
   "id": "80194470",
   "metadata": {},
   "outputs": [
    {
     "data": {
      "text/plain": [
       "M               80.89\n",
       "F               10.11\n",
       "not declared     9.00\n",
       "Name: sex, dtype: float64"
      ]
     },
     "execution_count": 21,
     "metadata": {},
     "output_type": "execute_result"
    }
   ],
   "source": [
    "round((df1.sex.value_counts()*100)/(df1.sex.value_counts().sum()),2)"
   ]
  },
  {
   "cell_type": "code",
   "execution_count": 20,
   "id": "e07df77f",
   "metadata": {},
   "outputs": [
    {
     "data": {
      "text/plain": [
       "Unprovoked      72.91\n",
       "Provoked         9.11\n",
       "Invalid          8.68\n",
       "Sea Disaster     3.79\n",
       "Boating          3.22\n",
       "Boat             2.17\n",
       "unknown          0.06\n",
       "Questionable     0.03\n",
       "Boatomg          0.02\n",
       "Name: attack_type, dtype: float64"
      ]
     },
     "execution_count": 20,
     "metadata": {},
     "output_type": "execute_result"
    }
   ],
   "source": [
    "round((df1.attack_type.value_counts()*100)/(df1.attack_type.value_counts().sum()),2)"
   ]
  },
  {
   "cell_type": "code",
   "execution_count": 19,
   "id": "fd561a7a",
   "metadata": {},
   "outputs": [
    {
     "data": {
      "text/plain": [
       "N          68.26\n",
       "Y          22.04\n",
       "unknown     9.70\n",
       "Name: fatal, dtype: float64"
      ]
     },
     "execution_count": 19,
     "metadata": {},
     "output_type": "execute_result"
    }
   ],
   "source": [
    "round((df1.fatal.value_counts()*100)/(df1.fatal.value_counts().sum()),2)"
   ]
  },
  {
   "cell_type": "code",
   "execution_count": 26,
   "id": "5e10dbb9",
   "metadata": {},
   "outputs": [
    {
     "data": {
      "text/plain": [
       "unknown      14.19\n",
       "July          9.92\n",
       "August        8.81\n",
       "September     8.28\n",
       "January       7.85\n",
       "June          7.54\n",
       "April         6.70\n",
       "December      6.62\n",
       "October       6.62\n",
       "March         6.03\n",
       "November      6.00\n",
       "May           5.79\n",
       "February      5.66\n",
       "Name: month, dtype: float64"
      ]
     },
     "execution_count": 26,
     "metadata": {},
     "output_type": "execute_result"
    }
   ],
   "source": [
    "round((df1.month.value_counts()*100)/(df1.month.value_counts().sum()),2)"
   ]
  },
  {
   "cell_type": "markdown",
   "id": "856bea15",
   "metadata": {},
   "source": [
    "Los datos indican que un 81% de los afectados son hombres, con un 10% de mujeres y un 9% de sexo no especificado en el reporte. También se observa que el 68% de los taques no fueron letales, mientras que un 22% de los mismos sí lo fueron, con un 10% de datos desconocidos. En cuanto al tipo de ataque, un 73% se considera no provocado y el otro 27% por otras causas (provocado, desastre marítimo, barcos...). Por último, descontando un 14% de los casos en los que se desconoce el mes del ataque, el mayor porcentaje de ataques se concentra en los meses de verano (julio, agosto y septiembre) con un 8-10% de los ataques al mes. El resto de meses se mantiene inferior al 8% siendo los meses de menor frecuencia mayo y febrero (un 6%)."
   ]
  },
  {
   "cell_type": "markdown",
   "id": "6d9f1a4f",
   "metadata": {},
   "source": [
    "# País"
   ]
  },
  {
   "cell_type": "markdown",
   "id": "9f98ddb1",
   "metadata": {},
   "source": [
    "Con respecto a los países de los ataques, hay mucha más variedad debido a que los datos no son lo suficientemente consistentes a la hora de ser registrados pero puede obtenerse información importante."
   ]
  },
  {
   "cell_type": "code",
   "execution_count": 54,
   "id": "c4d7ac60",
   "metadata": {},
   "outputs": [
    {
     "data": {
      "text/plain": [
       "USA                      35.37\n",
       "AUSTRALIA                21.23\n",
       "SOUTH AFRICA              9.19\n",
       "PAPUA NEW GUINEA          2.13\n",
       "NEW ZEALAND               2.03\n",
       "                         ...  \n",
       "THE BALKANS               0.02\n",
       "NORTH ATLANTIC OCEAN      0.02\n",
       "MAYOTTE                   0.02\n",
       "GABON                     0.02\n",
       "CEYLON (SRI LANKA)        0.02\n",
       "Name: country, Length: 213, dtype: float64"
      ]
     },
     "execution_count": 54,
     "metadata": {},
     "output_type": "execute_result"
    }
   ],
   "source": [
    "round((df1.country.value_counts()*100)/(df1.country.value_counts().sum()),2)"
   ]
  },
  {
   "cell_type": "markdown",
   "id": "8d87e38a",
   "metadata": {},
   "source": [
    "Más de un tercio de los ataques se han producido en Estados Unidos, mientras que cerca de una quinta parte del total se ha producido en África. El resto de ataques suponen una porción muy pequeña de los resultados como para ser estimada debido a la inconsistencia de la base de datos."
   ]
  },
  {
   "cell_type": "markdown",
   "id": "5dc29883",
   "metadata": {},
   "source": [
    "# Especies"
   ]
  },
  {
   "cell_type": "markdown",
   "id": "e1012ba1",
   "metadata": {},
   "source": [
    "Un parámetro a tener en cuenta es el tipo de especies de tiburón que han sido registradas ya que puede permitirnos estimar su frecuencia. Los tiburones más peligrosos son los tiburones blancos, los tiburones tigre y los tiburones toro. Otros que son peligrosos pero menos frecuentes son: el tiburón de cola negra, el tiburón Mako, el tiburón azul, el tiburón cobrizo, el tiburón arenero y el tiburón martillo. Podemos buscar su frecuencia en la columna 'species' buscando por palabras concretas con el comando str.contains. No podemos contar valores únicos debido a que cada descripción de esta variable es poco consistente."
   ]
  },
  {
   "cell_type": "code",
   "execution_count": 81,
   "id": "729fa94e",
   "metadata": {},
   "outputs": [
    {
     "data": {
      "text/plain": [
       "1.2 m to 1.5 m [4.5' to 5'] shark                                                                                                1\n",
       "Bull shark, 2.3 m [7.5']                                                                                                         1\n",
       "0.9 m  [3'] shark                                                                                                                1\n",
       "Mako shark, 14'                                                                                                                  1\n",
       "Said to involve a grey nurse shark that leapt out of the water and  seized the boy but species identification is questionable    1\n",
       "Name: species, dtype: int64"
      ]
     },
     "execution_count": 81,
     "metadata": {},
     "output_type": "execute_result"
    }
   ],
   "source": [
    "df1.species.value_counts().tail()"
   ]
  },
  {
   "cell_type": "code",
   "execution_count": 79,
   "id": "ef6e23cb",
   "metadata": {},
   "outputs": [
    {
     "name": "stdout",
     "output_type": "stream",
     "text": [
      "Número de tiburones blancos registrados:  436\n",
      "Número de tiburones tigre registrados:  48\n",
      "Número de tiburones blancos registrados:  51\n",
      "Número de tiburones de cola negra registrados:  30\n",
      "Número de tiburones Mako registrados:  44\n",
      "Número de tiburones azules registrados:  29\n",
      "Número de tiburones cobrizos registrados:  3\n",
      "Número de tiburones areneros registrados:  13\n",
      "Número de tiburones martillo registrados:  0\n"
     ]
    }
   ],
   "source": [
    "print(\"Número de tiburones blancos registrados: \", df1.species.str.contains(\"White shark\", \"white shark\").sum())\n",
    "print(\"Número de tiburones tigre registrados: \", df1.species.str.contains(\"tiger shark\", \"Tiger shark\").sum())\n",
    "print(\"Número de tiburones blancos registrados: \", df1.species.str.contains(\"bull shark\", \"Bull shark\").sum())\n",
    "print(\"Número de tiburones de cola negra registrados: \", df1.species.str.contains(\"blacktip shark\",\"Blacktip shark\").sum())\n",
    "print(\"Número de tiburones Mako registrados: \", df1.species.str.contains(\"Mako shark\", \"mako shark\").sum())\n",
    "print(\"Número de tiburones azules registrados: \", df1.species.str.contains(\"Blue shark\", \"blue shark\").sum())\n",
    "print(\"Número de tiburones cobrizos registrados: \", df1.species.str.contains(\"copper shark\", \"Copper shark\").sum())\n",
    "print(\"Número de tiburones areneros registrados: \", df1.species.str.contains(\"sand shark\", \"Sand shark\").sum())\n",
    "print(\"Número de tiburones martillo registrados: \", df1.species.str.contains(\"Hammer shark\", \"hammer shark\").sum())"
   ]
  },
  {
   "cell_type": "markdown",
   "id": "378e7ccc",
   "metadata": {},
   "source": [
    "# Multivariables"
   ]
  },
  {
   "cell_type": "markdown",
   "id": "91c5474c",
   "metadata": {},
   "source": [
    "Gracias a la función groupby, podemos agrupar variables y contar cuántas coincidencias tenemos en diferentes columnas para poder definir resultados que compartar las variables seleccionadas. Por ejemplo, podemos comprobar cuál es la proporción entre ataques letales entre hombres y mujeres."
   ]
  },
  {
   "cell_type": "code",
   "execution_count": 154,
   "id": "38ec1b4f",
   "metadata": {},
   "outputs": [
    {
     "data": {
      "text/plain": [
       "sex           fatal  \n",
       "M             N          55.284037\n",
       "              Y          18.629007\n",
       "F             N           7.426214\n",
       "M             unknown     6.981911\n",
       "not declared  N           5.553792\n",
       "              unknown     1.729610\n",
       "              Y           1.713742\n",
       "F             Y           1.697874\n",
       "              unknown     0.983815\n",
       "Name: fatal, dtype: float64"
      ]
     },
     "execution_count": 154,
     "metadata": {},
     "output_type": "execute_result"
    }
   ],
   "source": [
    "round(df1.groupby([\"sex\", \"fatal\"])[\"fatal\"].count().sort_values(ascending=False)*100, 2)/df1.value_counts().sum()"
   ]
  },
  {
   "cell_type": "markdown",
   "id": "ac304a46",
   "metadata": {},
   "source": [
    "De estos porcentajes comprobamos que de los ataques letales, un 18.6% corresponde a hombres mientras que un 1.7% corresponde a mujeres. El 1.7% restante (hasta aproximadamente un 22% como veíamos arriba) es del sesgo de sexo no declarado en los reportes."
   ]
  },
  {
   "cell_type": "markdown",
   "id": "cd143ba5",
   "metadata": {},
   "source": [
    "Empleando la misma metodología, podemos hacer un estudio del sexo y la edad de los afectados por los ataques de tiburón. Dado que un gran porcentaje de los mismos no han declarado su edad (casi un 46%), se puede observar que los más afectados por estos ataques son hombres jóvenes de entre 17-29 años. En este rango las mujeres no se ven afectadas."
   ]
  },
  {
   "cell_type": "code",
   "execution_count": 161,
   "id": "e052acb5",
   "metadata": {},
   "outputs": [
    {
     "data": {
      "text/plain": [
       "sex           age         \n",
       "M             not declared    34.322437\n",
       "not declared  not declared     8.394161\n",
       "F             not declared     2.840368\n",
       "M             17               2.253253\n",
       "              18               2.126309\n",
       "              20               2.062837\n",
       "              16               1.999365\n",
       "              19               1.983497\n",
       "              15               1.840685\n",
       "              21               1.682006\n",
       "              25               1.650270\n",
       "              22               1.634402\n",
       "              24               1.570930\n",
       "              26               1.237702\n",
       "              14               1.205966\n",
       "              23               1.190098\n",
       "              30               1.190098\n",
       "              27               1.158362\n",
       "              28               1.126626\n",
       "              29               1.079023\n",
       "Name: fatal, dtype: float64"
      ]
     },
     "execution_count": 161,
     "metadata": {},
     "output_type": "execute_result"
    }
   ],
   "source": [
    "(round(df1.groupby([\"sex\", \"age\"])[\"fatal\"].count().sort_values(ascending=False)*100, 2)/df1.value_counts().sum()).head(20)"
   ]
  },
  {
   "cell_type": "markdown",
   "id": "e08cf99e",
   "metadata": {},
   "source": [
    "Nos fijaremos ahora en la proporción de hombres y mujeres de los diferentes países y las edades de los afectados."
   ]
  },
  {
   "cell_type": "code",
   "execution_count": 177,
   "id": "7efc8d14",
   "metadata": {},
   "outputs": [
    {
     "data": {
      "text/plain": [
       "sex           age           country         \n",
       "M             not declared  USA                 9.489051\n",
       "                            AUSTRALIA           7.394478\n",
       "                            SOUTH AFRICA        2.221517\n",
       "not declared  not declared  AUSTRALIA           2.094573\n",
       "                            USA                 1.380514\n",
       "M             not declared  PAPUA NEW GUINEA    1.126626\n",
       "not declared  not declared  SOUTH AFRICA        0.999683\n",
       "F             not declared  USA                 0.983815\n",
       "M             16            USA                 0.952079\n",
       "              not declared  NEW ZEALAND         0.936211\n",
       "              17            USA                 0.872739\n",
       "              15            USA                 0.841003\n",
       "              18            USA                 0.809267\n",
       "              19            USA                 0.761663\n",
       "              20            USA                 0.714059\n",
       "              17            AUSTRALIA           0.714059\n",
       "              25            USA                 0.666455\n",
       "              21            USA                 0.666455\n",
       "              24            USA                 0.634719\n",
       "              18            AUSTRALIA           0.555379\n",
       "Name: country, dtype: float64"
      ]
     },
     "execution_count": 177,
     "metadata": {},
     "output_type": "execute_result"
    }
   ],
   "source": [
    "(round(df1.groupby([\"sex\", \"age\", \"country\"])[\"country\"].count().sort_values(ascending=False)*100, 2)/df1.value_counts().sum()).head(20)"
   ]
  },
  {
   "cell_type": "markdown",
   "id": "67970568",
   "metadata": {},
   "source": [
    "Esta multivariable no nos aporta demasiada información relevante salvo que los más afectados son los hombres en los países mencionados anteriormente (USA, Australia y Sudáfrica) a pesar de no tener datos de su edad para poder englobarlos en un rango de edad determinado. En esta ocasión la variabilidad es muy alta como para establecer una hipótesis."
   ]
  },
  {
   "cell_type": "markdown",
   "id": "38d644bf",
   "metadata": {},
   "source": [
    "Anteriormente se ha estudiado que los meses de verano, desde julio a septiembre, son los meses donde más ataquese se habían producido, pero ahora podemos desglosarlos para ver cuáles de estos ataquen fueron mortales. Un 9.9% de los ataques se produjeron en julio, de los cuales un 7.1% no fueron letales pero un 1.9% sí lo fueron (el 0.8 restante no se sabe el resultado). Los ataques de agosto suponen un 8.8%, de los cuales  un 6.3% fueron sin incidentes, un 1.4% los letales y un 1.1% de resultado desconocido. En el caso de septembre, un 5.9% de 8.3% fueron ataques no letales, con un 1.7% de ataques letales y un 0.6% de resultado desconocido."
   ]
  },
  {
   "cell_type": "code",
   "execution_count": 181,
   "id": "8615ff3b",
   "metadata": {},
   "outputs": [
    {
     "data": {
      "text/plain": [
       "month      fatal  \n",
       "unknown    N          7.933989\n",
       "July       N          7.124722\n",
       "August     N          6.331323\n",
       "September  N          5.918756\n",
       "June       N          5.299905\n",
       "January    N          5.236433\n",
       "October    N          5.014281\n",
       "April      N          4.601714\n",
       "unknown    Y          4.538242\n",
       "March      N          4.284354\n",
       "November   N          4.268486\n",
       "May        N          4.141542\n",
       "December   N          4.078070\n",
       "February   N          4.030467\n",
       "July       Y          1.935893\n",
       "December   Y          1.904157\n",
       "January    Y          1.745478\n",
       "September  Y          1.729610\n",
       "unknown    unknown    1.713742\n",
       "June       Y          1.539194\n",
       "August     Y          1.396382\n",
       "April      Y          1.317042\n",
       "March      Y          1.237702\n",
       "February   Y          1.221834\n",
       "May        Y          1.190098\n",
       "November   Y          1.190098\n",
       "October    Y          1.094891\n",
       "August     unknown    1.079023\n",
       "January    unknown    0.872739\n",
       "July       unknown    0.856871\n",
       "April      unknown    0.777531\n",
       "June       unknown    0.698191\n",
       "December   unknown    0.634719\n",
       "September  unknown    0.634719\n",
       "November   unknown    0.539511\n",
       "Name: fatal, dtype: float64"
      ]
     },
     "execution_count": 181,
     "metadata": {},
     "output_type": "execute_result"
    }
   ],
   "source": [
    "(round(df1.groupby([\"month\", \"fatal\"])[\"fatal\"].count().sort_values(ascending=False)*100, 2)/df1.value_counts().sum()).head(35)"
   ]
  }
 ],
 "metadata": {
  "kernelspec": {
   "display_name": "Clase",
   "language": "python",
   "name": "clase"
  },
  "language_info": {
   "codemirror_mode": {
    "name": "ipython",
    "version": 3
   },
   "file_extension": ".py",
   "mimetype": "text/x-python",
   "name": "python",
   "nbconvert_exporter": "python",
   "pygments_lexer": "ipython3",
   "version": "3.8.13"
  }
 },
 "nbformat": 4,
 "nbformat_minor": 5
}
